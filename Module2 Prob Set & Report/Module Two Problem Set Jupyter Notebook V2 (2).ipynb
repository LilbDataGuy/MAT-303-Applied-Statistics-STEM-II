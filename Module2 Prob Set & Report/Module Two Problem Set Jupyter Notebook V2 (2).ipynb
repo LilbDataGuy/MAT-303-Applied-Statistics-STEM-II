{
 "cells": [
  {
   "cell_type": "markdown",
   "metadata": {
    "deletable": false,
    "editable": false
   },
   "source": [
    "# Module Two Problem Set: Interaction Terms and Qualitative Predictors\n",
    "\n",
    "In this notebook, you have been given a set of steps that will show you how to create multiple regression models that include interaction terms and qualitative predictors in R. It is very important to run the steps in order. Some steps depend on the outputs of earlier steps. Once you have run all the steps, you will be asked to create your own regression models to help you answer the questions in the Module Two Problem Set. You are expected to write the R script yourself to answer these questions.\n",
    "\n",
    "Reminder: If you have not already reviewed the Problem Set Report template for your Module Two Problem Set, be sure to do so now. That will give you an idea of the questions you will need to answer with the outputs of this script. You should use the code you are given as reference when writing your own scripts."
   ]
  },
  {
   "cell_type": "markdown",
   "metadata": {},
   "source": []
  },
  {
   "cell_type": "markdown",
   "metadata": {
    "deletable": false,
    "editable": false
   },
   "source": [
    "### Step 1: Loading the Data Set\n",
    "You are an analyst working for a car maker. You have access to a set of data that can be used to study the fuel economy of a car. Car makers are interested in studying factors that are associated with better fuel economy. This data set includes several important variables that are associated with fuel economy. You will use this data set to create models to predict fuel economy.\n",
    "\n",
    "This block of R code will load the data set from **mtcars.csv** file. Here are the variables contained in the dataset. \n",
    "\n",
    "| <div style=\"text-align: left\"> Variable </div>  |   <div style=\"text-align: left\"> What does it represent? </div> |\n",
    "| -- | --  |\n",
    "| <div style=\"text-align: left\"> mpg </div> | <div style=\"text-align: left\"> Fuel economy in miles/(US) gallon </div> |\n",
    "| <div style=\"text-align: left\"> cyl </div> | <div style=\"text-align: left\"> Number of cylinders in car's engine. Values are (4, 6, 8) </div> |\n",
    "| <div style=\"text-align: left\"> disp </div> | <div style=\"text-align: left\"> Displacement (cu.in.) measures overall volume in the engine as a factor of cylinder circumfrance, depth and total number of cylinders. This metric is a good proxy for the total amount of power the engine can generate.</div> |\n",
    "| <div style=\"text-align: left\"> hp </div> | <div style=\"text-align: left\"> Gross horsepower measures the theoretical output of an engine’s power output.</div> |\n",
    "| <div style=\"text-align: left\"> drat </div> | <div style=\"text-align: left\"> Rear axle ratio indicates the number of turns of the drive shaft for every one rotation of the wheel axle. A vehicle with a high ratio would provide more torque. </div> |\n",
    "| <div style=\"text-align: left\"> wt </div> | <div style=\"text-align: left\"> Weight of the car per 1,000 lbs. </div>|\n",
    "| <div style=\"text-align: left\"> qsec </div> | <div style=\"text-align: left\"> Quarter mile time is a performance measure of acceleration of the car.</div>|\n",
    "| <div style=\"text-align: left\"> vs </div> | <div style=\"text-align: left\"> Engine's cylinder configuration as V-shaped or straight. Configuration offers trade offs in power/torque, design usage in terms of space/size of engine and performance or center of gravity of vehicle. Values are (0 = V-shaped, 1 = straight) </div> |\n",
    "| <div style=\"text-align: left\"> am </div> | <div style=\"text-align: left\"> Automatic or Manual transmission. Values are (0 = automatic, 1 = manual) </div> |\n",
    "| <div style=\"text-align: left\"> gear </div> | <div style=\"text-align: left\"> Number of gears in the transmission.</div> |\n",
    "\n",
    "Reference:\n",
    "R data sets. (1974). <i>Motor trend car road tests<i> [Data file]. Retrieved from https://www.rdocumentation.org/packages/datasets/versions/3.6.2/topics/mtcars\n",
    "\n",
    "\n",
    "Click the code section below and hit the **Run** button above."
   ]
  },
  {
   "cell_type": "code",
   "execution_count": 1,
   "metadata": {
    "deletable": false,
    "editable": false,
    "scrolled": true
   },
   "outputs": [
    {
     "name": "stdout",
     "output_type": "stream",
     "text": [
      "[1] \"head\"\n"
     ]
    },
    {
     "data": {
      "text/html": [
       "<table>\n",
       "<caption>A data.frame: 6 × 12</caption>\n",
       "<thead>\n",
       "\t<tr><th scope=col>car</th><th scope=col>mpg</th><th scope=col>cyl</th><th scope=col>disp</th><th scope=col>hp</th><th scope=col>drat</th><th scope=col>wt</th><th scope=col>qsec</th><th scope=col>vs</th><th scope=col>am</th><th scope=col>gear</th><th scope=col>carb</th></tr>\n",
       "\t<tr><th scope=col>&lt;fct&gt;</th><th scope=col>&lt;dbl&gt;</th><th scope=col>&lt;fct&gt;</th><th scope=col>&lt;dbl&gt;</th><th scope=col>&lt;int&gt;</th><th scope=col>&lt;dbl&gt;</th><th scope=col>&lt;dbl&gt;</th><th scope=col>&lt;dbl&gt;</th><th scope=col>&lt;fct&gt;</th><th scope=col>&lt;fct&gt;</th><th scope=col>&lt;fct&gt;</th><th scope=col>&lt;fct&gt;</th></tr>\n",
       "</thead>\n",
       "<tbody>\n",
       "\t<tr><td>Mazda RX4        </td><td>21.0</td><td>6</td><td>160</td><td>110</td><td>3.90</td><td>2.620</td><td>16.46</td><td>0</td><td>1</td><td>4</td><td>4</td></tr>\n",
       "\t<tr><td>Mazda RX4 Wag    </td><td>21.0</td><td>6</td><td>160</td><td>110</td><td>3.90</td><td>2.875</td><td>17.02</td><td>0</td><td>1</td><td>4</td><td>4</td></tr>\n",
       "\t<tr><td>Datsun 710       </td><td>22.8</td><td>4</td><td>108</td><td> 93</td><td>3.85</td><td>2.320</td><td>18.61</td><td>1</td><td>1</td><td>4</td><td>1</td></tr>\n",
       "\t<tr><td>Hornet 4 Drive   </td><td>21.4</td><td>6</td><td>258</td><td>110</td><td>3.08</td><td>3.215</td><td>19.44</td><td>1</td><td>0</td><td>3</td><td>1</td></tr>\n",
       "\t<tr><td>Hornet Sportabout</td><td>18.7</td><td>8</td><td>360</td><td>175</td><td>3.15</td><td>3.440</td><td>17.02</td><td>0</td><td>0</td><td>3</td><td>2</td></tr>\n",
       "\t<tr><td>Valiant          </td><td>18.1</td><td>6</td><td>225</td><td>105</td><td>2.76</td><td>3.460</td><td>20.22</td><td>1</td><td>0</td><td>3</td><td>1</td></tr>\n",
       "</tbody>\n",
       "</table>\n"
      ],
      "text/latex": [
       "A data.frame: 6 × 12\n",
       "\\begin{tabular}{r|llllllllllll}\n",
       " car & mpg & cyl & disp & hp & drat & wt & qsec & vs & am & gear & carb\\\\\n",
       " <fct> & <dbl> & <fct> & <dbl> & <int> & <dbl> & <dbl> & <dbl> & <fct> & <fct> & <fct> & <fct>\\\\\n",
       "\\hline\n",
       "\t Mazda RX4         & 21.0 & 6 & 160 & 110 & 3.90 & 2.620 & 16.46 & 0 & 1 & 4 & 4\\\\\n",
       "\t Mazda RX4 Wag     & 21.0 & 6 & 160 & 110 & 3.90 & 2.875 & 17.02 & 0 & 1 & 4 & 4\\\\\n",
       "\t Datsun 710        & 22.8 & 4 & 108 &  93 & 3.85 & 2.320 & 18.61 & 1 & 1 & 4 & 1\\\\\n",
       "\t Hornet 4 Drive    & 21.4 & 6 & 258 & 110 & 3.08 & 3.215 & 19.44 & 1 & 0 & 3 & 1\\\\\n",
       "\t Hornet Sportabout & 18.7 & 8 & 360 & 175 & 3.15 & 3.440 & 17.02 & 0 & 0 & 3 & 2\\\\\n",
       "\t Valiant           & 18.1 & 6 & 225 & 105 & 2.76 & 3.460 & 20.22 & 1 & 0 & 3 & 1\\\\\n",
       "\\end{tabular}\n"
      ],
      "text/markdown": [
       "\n",
       "A data.frame: 6 × 12\n",
       "\n",
       "| car &lt;fct&gt; | mpg &lt;dbl&gt; | cyl &lt;fct&gt; | disp &lt;dbl&gt; | hp &lt;int&gt; | drat &lt;dbl&gt; | wt &lt;dbl&gt; | qsec &lt;dbl&gt; | vs &lt;fct&gt; | am &lt;fct&gt; | gear &lt;fct&gt; | carb &lt;fct&gt; |\n",
       "|---|---|---|---|---|---|---|---|---|---|---|---|\n",
       "| Mazda RX4         | 21.0 | 6 | 160 | 110 | 3.90 | 2.620 | 16.46 | 0 | 1 | 4 | 4 |\n",
       "| Mazda RX4 Wag     | 21.0 | 6 | 160 | 110 | 3.90 | 2.875 | 17.02 | 0 | 1 | 4 | 4 |\n",
       "| Datsun 710        | 22.8 | 4 | 108 |  93 | 3.85 | 2.320 | 18.61 | 1 | 1 | 4 | 1 |\n",
       "| Hornet 4 Drive    | 21.4 | 6 | 258 | 110 | 3.08 | 3.215 | 19.44 | 1 | 0 | 3 | 1 |\n",
       "| Hornet Sportabout | 18.7 | 8 | 360 | 175 | 3.15 | 3.440 | 17.02 | 0 | 0 | 3 | 2 |\n",
       "| Valiant           | 18.1 | 6 | 225 | 105 | 2.76 | 3.460 | 20.22 | 1 | 0 | 3 | 1 |\n",
       "\n"
      ],
      "text/plain": [
       "  car               mpg  cyl disp hp  drat wt    qsec  vs am gear carb\n",
       "1 Mazda RX4         21.0 6   160  110 3.90 2.620 16.46 0  1  4    4   \n",
       "2 Mazda RX4 Wag     21.0 6   160  110 3.90 2.875 17.02 0  1  4    4   \n",
       "3 Datsun 710        22.8 4   108   93 3.85 2.320 18.61 1  1  4    1   \n",
       "4 Hornet 4 Drive    21.4 6   258  110 3.08 3.215 19.44 1  0  3    1   \n",
       "5 Hornet Sportabout 18.7 8   360  175 3.15 3.440 17.02 0  0  3    2   \n",
       "6 Valiant           18.1 6   225  105 2.76 3.460 20.22 1  0  3    1   "
      ]
     },
     "metadata": {},
     "output_type": "display_data"
    }
   ],
   "source": [
    "# Loading mtcars data set from a mtcars.csv file\n",
    "mtcars <- read.csv(file='mtcars.csv', header=TRUE, sep=\",\")\n",
    "\n",
    "# Converting appropriate variables to factors  \n",
    "mtcars2 <- within(mtcars, {\n",
    "   vs <- factor(vs)\n",
    "   am <- factor(am)\n",
    "   cyl  <- factor(cyl)\n",
    "   gear <- factor(gear)\n",
    "   carb <- factor(carb)\n",
    "})\n",
    "\n",
    "\n",
    "# Print the first six rows\n",
    "print(\"head\")\n",
    "head(mtcars2, 6)"
   ]
  },
  {
   "cell_type": "markdown",
   "metadata": {
    "deletable": false,
    "editable": false
   },
   "source": [
    "## Step 2: Subsetting Data and Correlation Matrix\n",
    "In this step, you will subset the original data set to select some variables and create a new data set. You will then print the correlation matrix for these variables in the new data set. \n",
    "\n",
    "Click the block of code below and hit the **Run** button above.  "
   ]
  },
  {
   "cell_type": "code",
   "execution_count": 2,
   "metadata": {
    "deletable": false,
    "editable": false
   },
   "outputs": [
    {
     "name": "stdout",
     "output_type": "stream",
     "text": [
      "[1] \"head\"\n"
     ]
    },
    {
     "data": {
      "text/html": [
       "<table>\n",
       "<caption>A data.frame: 6 × 3</caption>\n",
       "<thead>\n",
       "\t<tr><th scope=col>mpg</th><th scope=col>wt</th><th scope=col>drat</th></tr>\n",
       "\t<tr><th scope=col>&lt;dbl&gt;</th><th scope=col>&lt;dbl&gt;</th><th scope=col>&lt;dbl&gt;</th></tr>\n",
       "</thead>\n",
       "<tbody>\n",
       "\t<tr><td>21.0</td><td>2.620</td><td>3.90</td></tr>\n",
       "\t<tr><td>21.0</td><td>2.875</td><td>3.90</td></tr>\n",
       "\t<tr><td>22.8</td><td>2.320</td><td>3.85</td></tr>\n",
       "\t<tr><td>21.4</td><td>3.215</td><td>3.08</td></tr>\n",
       "\t<tr><td>18.7</td><td>3.440</td><td>3.15</td></tr>\n",
       "\t<tr><td>18.1</td><td>3.460</td><td>2.76</td></tr>\n",
       "</tbody>\n",
       "</table>\n"
      ],
      "text/latex": [
       "A data.frame: 6 × 3\n",
       "\\begin{tabular}{r|lll}\n",
       " mpg & wt & drat\\\\\n",
       " <dbl> & <dbl> & <dbl>\\\\\n",
       "\\hline\n",
       "\t 21.0 & 2.620 & 3.90\\\\\n",
       "\t 21.0 & 2.875 & 3.90\\\\\n",
       "\t 22.8 & 2.320 & 3.85\\\\\n",
       "\t 21.4 & 3.215 & 3.08\\\\\n",
       "\t 18.7 & 3.440 & 3.15\\\\\n",
       "\t 18.1 & 3.460 & 2.76\\\\\n",
       "\\end{tabular}\n"
      ],
      "text/markdown": [
       "\n",
       "A data.frame: 6 × 3\n",
       "\n",
       "| mpg &lt;dbl&gt; | wt &lt;dbl&gt; | drat &lt;dbl&gt; |\n",
       "|---|---|---|\n",
       "| 21.0 | 2.620 | 3.90 |\n",
       "| 21.0 | 2.875 | 3.90 |\n",
       "| 22.8 | 2.320 | 3.85 |\n",
       "| 21.4 | 3.215 | 3.08 |\n",
       "| 18.7 | 3.440 | 3.15 |\n",
       "| 18.1 | 3.460 | 2.76 |\n",
       "\n"
      ],
      "text/plain": [
       "  mpg  wt    drat\n",
       "1 21.0 2.620 3.90\n",
       "2 21.0 2.875 3.90\n",
       "3 22.8 2.320 3.85\n",
       "4 21.4 3.215 3.08\n",
       "5 18.7 3.440 3.15\n",
       "6 18.1 3.460 2.76"
      ]
     },
     "metadata": {},
     "output_type": "display_data"
    },
    {
     "name": "stdout",
     "output_type": "stream",
     "text": [
      "[1] \"cor\"\n"
     ]
    },
    {
     "data": {
      "text/html": [
       "<table>\n",
       "<caption>A matrix: 3 × 3 of type dbl</caption>\n",
       "<thead>\n",
       "\t<tr><th></th><th scope=col>mpg</th><th scope=col>wt</th><th scope=col>drat</th></tr>\n",
       "</thead>\n",
       "<tbody>\n",
       "\t<tr><th scope=row>mpg</th><td> 1.0000</td><td>-0.8677</td><td> 0.6812</td></tr>\n",
       "\t<tr><th scope=row>wt</th><td>-0.8677</td><td> 1.0000</td><td>-0.7124</td></tr>\n",
       "\t<tr><th scope=row>drat</th><td> 0.6812</td><td>-0.7124</td><td> 1.0000</td></tr>\n",
       "</tbody>\n",
       "</table>\n"
      ],
      "text/latex": [
       "A matrix: 3 × 3 of type dbl\n",
       "\\begin{tabular}{r|lll}\n",
       "  & mpg & wt & drat\\\\\n",
       "\\hline\n",
       "\tmpg &  1.0000 & -0.8677 &  0.6812\\\\\n",
       "\twt & -0.8677 &  1.0000 & -0.7124\\\\\n",
       "\tdrat &  0.6812 & -0.7124 &  1.0000\\\\\n",
       "\\end{tabular}\n"
      ],
      "text/markdown": [
       "\n",
       "A matrix: 3 × 3 of type dbl\n",
       "\n",
       "| <!--/--> | mpg | wt | drat |\n",
       "|---|---|---|---|\n",
       "| mpg |  1.0000 | -0.8677 |  0.6812 |\n",
       "| wt | -0.8677 |  1.0000 | -0.7124 |\n",
       "| drat |  0.6812 | -0.7124 |  1.0000 |\n",
       "\n"
      ],
      "text/plain": [
       "     mpg     wt      drat   \n",
       "mpg   1.0000 -0.8677  0.6812\n",
       "wt   -0.8677  1.0000 -0.7124\n",
       "drat  0.6812 -0.7124  1.0000"
      ]
     },
     "metadata": {},
     "output_type": "display_data"
    }
   ],
   "source": [
    "myvars <- c(\"mpg\",\"wt\",\"drat\")\n",
    "mtcars_subset <- mtcars2[myvars]\n",
    "\n",
    "# Print the first six rows\n",
    "print(\"head\")\n",
    "head(mtcars_subset, 6)\n",
    "\n",
    "# Print the correlation matrix\n",
    "print(\"cor\")\n",
    "corr_matrix <- cor(mtcars_subset, method = \"pearson\")\n",
    "round(corr_matrix, 4)"
   ]
  },
  {
   "cell_type": "markdown",
   "metadata": {
    "deletable": false,
    "editable": false
   },
   "source": [
    "## Step 3: Multiple Regression With Interaction Term\n",
    "In this step, you will create a multiple regression model for fuel economy as the response variable, and weight and rear axle ratio as predictors. A numerically higher rear axle ratio sends more of the engine's available torque to the tires, thus increasing the fuel economy. We expect that the fuel economy and weight of the car are negatively correlated, meaning that as weight increases, the fuel economy decreases (or vice versa). However, the rate of decrease in fuel economy will be offset by a numerically higher rear axle ratio. This favors a multiple regression model in which the two predictor variables interact. \n",
    "\n",
    "The general form of this regression model is:\n",
    "\n",
    "<br><br>\n",
    "\\begin{equation*}\n",
    "\\large E(y) = {\\beta}_0\\ +\\ {\\beta}_1\\ {x}_1\\ +\\ {\\beta}_2\\ {x}_2\\ +\\ {\\beta}_3\\ {x}_1\\ {x}_2\n",
    "\\end{equation*}\n",
    "<br><br>\n",
    "\n",
    "\n",
    "The prediction regression model is:\n",
    "\n",
    "<br><br>\n",
    "\\begin{equation*}\n",
    "\\large \\hat{y} = \\hat{{\\beta}_0} +\\ \\hat{{\\beta}_1}\\ {x}_1\\ +\\ \\hat{{\\beta}_2}\\ {x}_2+\\ \\hat{{\\beta}_3}\\ {x}_1\\ {x}_2\n",
    "\\end{equation*}\n",
    "<br><br>\n",
    "\n",
    "\n",
    "\\begin{equation*}\n",
    "\\text{where } \\hat{y} \\text{ is the predicted value of the fuel economy,}\\ {x}_1\\ \\text{is weight,}\\ {x}_2\\ \\text{is rear axle ratio}\n",
    "\\end{equation*}\n",
    "\n",
    "\\begin{equation*}\n",
    "\\hat{{\\beta}_0} \\text{,} \\hspace{0.25cm} \\hat{{\\beta}_1} \\text{, } \\hspace{0.25cm} \\hat{{\\beta}_2} \\text{, } \\hspace{0.25cm} \\hat{{\\beta}_3} \\text{  } \\text{ are estimates of}\n",
    "\\text{  } {\\beta}_0\\ \\text{,} \\hspace{0.25cm} {\\beta}_1\\ \\text{,} \\hspace{0.25cm} {\\beta}_2\\ \\text{,} \\hspace{0.25cm} {\\beta}_3\\ \\text{ respectively  }\n",
    "\\end{equation*}\n",
    "<br><br>\n",
    "\n",
    "\n",
    "<br>\n",
    "\n",
    "\n",
    "Click the block of code below and hit the **Run** button above.  "
   ]
  },
  {
   "cell_type": "code",
   "execution_count": 3,
   "metadata": {
    "deletable": false,
    "editable": false,
    "scrolled": false
   },
   "outputs": [
    {
     "data": {
      "text/plain": [
       "\n",
       "Call:\n",
       "lm(formula = mpg ~ wt + drat + wt:drat, data = mtcars_subset)\n",
       "\n",
       "Residuals:\n",
       "    Min      1Q  Median      3Q     Max \n",
       "-3.8913 -1.8634 -0.3398  1.3247  6.4730 \n",
       "\n",
       "Coefficients:\n",
       "            Estimate Std. Error t value Pr(>|t|)  \n",
       "(Intercept)    5.550     12.631   0.439   0.6637  \n",
       "wt             3.884      3.798   1.023   0.3153  \n",
       "drat           8.494      3.321   2.557   0.0162 *\n",
       "wt:drat       -2.543      1.093  -2.327   0.0274 *\n",
       "---\n",
       "Signif. codes:  0 '***' 0.001 '**' 0.01 '*' 0.05 '.' 0.1 ' ' 1\n",
       "\n",
       "Residual standard error: 2.839 on 28 degrees of freedom\n",
       "Multiple R-squared:  0.7996,\tAdjusted R-squared:  0.7782 \n",
       "F-statistic: 37.25 on 3 and 28 DF,  p-value: 6.567e-10\n"
      ]
     },
     "metadata": {},
     "output_type": "display_data"
    }
   ],
   "source": [
    "# Create the multiple regression model and print summary statistics. Note that this model includes the interaction term. \n",
    "model1 <- lm(mpg ~ wt + drat + wt:drat, data=mtcars_subset)\n",
    "summary(model1)"
   ]
  },
  {
   "cell_type": "markdown",
   "metadata": {
    "deletable": false,
    "editable": false
   },
   "source": [
    "### Interpretation of Beta Estimates\n",
    "From the output in previous step, the prediction model equation is:\n",
    "<br><br>\n",
    "\\begin{equation*}\n",
    "\\large \\hat{y} = 5.5500\\ +\\ 3.8840\\ {x}_1\\ +\\ 8.4940\\ {x}_2\\ -\\ 2.5430\\ {x}_1\\ {x}_2\n",
    "\\end{equation*}\n",
    "<br><br>\n",
    "\n",
    "\\begin{equation*}\n",
    "\\text{where } \\hat{y} \\text{ is the predicted fuel efficiency,}\\ {x}_1\\ \\text{is weight,}\\ {x}_2\\ \\text{and rear axle ratio}  \n",
    "\\end{equation*}\n",
    "\n",
    "<br>\n",
    "\n",
    "**Interpret the estimated coefficient of rear axle ratio variable. **\n",
    "\n",
    "\n",
    "* Let us assume there was no interaction present and the multiple regression model was 5.55 + 3.884 x1 + 8.494 x2. Then, the fuel economy of a car would increase on average by 8.494 for each unit increase in rear axle ratio (since 8.494 is the estimated coefficient for a rear axle ratio variable). \n",
    "<br><br>\n",
    "\n",
    "* However, weight and rear axle ratio interact in the model in step 3, therefore the rate of change of average fuel economy with rear axle ratio depends on the weight of the car. The estimated coefficient for x2 is: \n",
    "\n",
    " 8.4940 x2 - 2.5430 (x1)(x2) = ( 8.4940 - 2.5430 x1 ) x2\n",
    " \n",
    " The estimated coefficient for x2 is ( 8.494 - 2.543 x1 )\n",
    " \n",
    "\n",
    "* Suppose we have a car with weight 2.50. The estimated coeffficient for rear axle ratio can be calculated as:\n",
    "\n",
    " ( 8.494 - 2.543 x1 ) = 8.494 - 2.543 (2.50) = +2.1365 \n",
    "\n",
    " In other words, we estimate that the fuel economy of a car with weight 2,500lbs will increase by 2.1365 units for each unit  increase in rear axle ratio. Note that this is different than the 8.494 from the first bullet. This is because the multiple regression model has an interaction term between weight and rear axle ratio. \n",
    "<br><br>\n",
    "\n",
    "* Suppose we now have a car with weight 2.32. If there were no interaction term included in the model, then the fuel economy of this car would increase on average by 8.494 for each unit increase in rear axle ratio. However, since we now have the interaction term in the model, the fuel economy of the car will increase by 8.494 - 2.543 (2.32) = 2.59 units for each unit increase in rear axle ratio. \n",
    "<br><br>\n",
    "\n",
    "* Therefore, the rate of increase in fuel economy now varies due to the presence of an interaction term. "
   ]
  },
  {
   "cell_type": "markdown",
   "metadata": {
    "deletable": false,
    "editable": false
   },
   "source": [
    "## Step 4: Adding in a Qualitative Predictor\n",
    "In this step, you will add a qualitative predictor into the multiple regression model from step 3. The transmission variable **am** is a qualitative variable with two levels; manual and automatic. Since this is a variable with two levels, we can use one dummy variable to represent it. R will create the dummy variable automatically and will also label it appropriately. \n",
    "\n",
    "The general form of this regression model is:\n",
    "<br><br>\n",
    "\\begin{equation*}\n",
    "\\large E(y) = {\\beta}_0\\ +\\ {\\beta}_1\\ {x}_1\\ +\\ {\\beta}_2\\ {x}_2\\ +\\ {\\beta}_3\\ {x}_1\\ {x}_2\\ +\\ {\\beta}_4\\ {x}_3\n",
    "\\end{equation*}\n",
    "<br><br>\n",
    "\n",
    "The prediction regression model is:\n",
    "<br><br>\n",
    "\\begin{equation*}\n",
    "\\large \\hat{y} = \\hat{{\\beta}_0}\\ +\\ \\hat{{\\beta}_1}\\ {x}_1\\ +\\ \\hat{{\\beta}_2}\\ {x}_2\\ +\\ \\hat{{\\beta}_3}\\ {x}_1\\ {x}_2\\ +\\ \\hat{{\\beta}_4}\\ {x}_3\n",
    "\\end{equation*}\n",
    "<br><br>\n",
    "\n",
    "\\begin{equation*}\n",
    "\\text{In the model above, } \\hat{y} \\text{ is the predicted fuel economy (mpg), x1 is weight (wt), x2 is rear axle ratio (drat), and x3 is the dummy variable for transmission (am).}\n",
    "\\end{equation*}\n",
    "\n",
    "\\begin{equation*}\n",
    "\\text{Note that am='1' for a manual transmission and am='0' for an automatic transmission.}\n",
    "\\end{equation*}\n",
    "\n",
    "\\begin{equation*}\n",
    "\\hat{{\\beta}_0} \\text{,} \\hspace{0.25cm} \\hat{{\\beta}_1} \\text{, } \\hspace{0.25cm} \\hat{{\\beta}_2} \\text{,} \\hspace{0.25cm} \\hat{{\\beta}_3} \\text{,} \\hspace{0.25cm} \\hat{{\\beta}_4} \\text{  } \\text{ are estimates of}\n",
    "\\text{  } {\\beta}_0\\ \\text{,} \\hspace{0.25cm} {\\beta}_1\\ \\text{,} \\hspace{0.25cm} {\\beta}_2\\ \\text{,} \\hspace{0.25cm} {\\beta}_3\\ \\text{,} \\hspace{0.25cm} {\\beta}_4\\ \\text{ respectively  }\\\\\n",
    "\\end{equation*}\n",
    "\n",
    "Click the block of code below and hit the **Run** button above.  "
   ]
  },
  {
   "cell_type": "code",
   "execution_count": 4,
   "metadata": {
    "deletable": false,
    "editable": false,
    "scrolled": false
   },
   "outputs": [
    {
     "data": {
      "text/plain": [
       "\n",
       "Call:\n",
       "lm(formula = mpg ~ wt + drat + wt:drat + am, data = mtcars_subset)\n",
       "\n",
       "Residuals:\n",
       "    Min      1Q  Median      3Q     Max \n",
       "-3.6907 -1.4711 -0.2512  0.9344  6.7453 \n",
       "\n",
       "Coefficients:\n",
       "            Estimate Std. Error t value Pr(>|t|)  \n",
       "(Intercept)    3.247     12.914   0.251   0.8034  \n",
       "wt             4.168      3.822   1.091   0.2851  \n",
       "drat           9.562      3.529   2.710   0.0116 *\n",
       "am1           -1.464      1.597  -0.917   0.3674  \n",
       "wt:drat       -2.708      1.111  -2.438   0.0216 *\n",
       "---\n",
       "Signif. codes:  0 '***' 0.001 '**' 0.01 '*' 0.05 '.' 0.1 ' ' 1\n",
       "\n",
       "Residual standard error: 2.847 on 27 degrees of freedom\n",
       "Multiple R-squared:  0.8057,\tAdjusted R-squared:  0.7769 \n",
       "F-statistic: 27.99 on 4 and 27 DF,  p-value: 2.948e-09\n"
      ]
     },
     "metadata": {},
     "output_type": "display_data"
    }
   ],
   "source": [
    "# Subsetting data to only include the variables that are needed\n",
    "myvars <- c(\"mpg\",\"wt\",\"drat\",\"am\")\n",
    "mtcars_subset <- mtcars2[myvars]\n",
    "\n",
    "# Create the model\n",
    "model2 <- lm(mpg ~ wt + drat + wt:drat + am, data=mtcars_subset)\n",
    "summary(model2)"
   ]
  },
  {
   "cell_type": "markdown",
   "metadata": {},
   "source": [
    " "
   ]
  },
  {
   "cell_type": "markdown",
   "metadata": {
    "deletable": false,
    "editable": false
   },
   "source": [
    "## Step 5: Fitted Values\n",
    "In this step, you will obtain the fitted values of the data set using the model from step 4. Recall that the fitted value is just the predicted value of the dependent variable (miles per gallon) for data points from the data set. \n",
    "\n",
    "Click the block of code below and hit the **Run** button above.  "
   ]
  },
  {
   "cell_type": "code",
   "execution_count": 5,
   "metadata": {
    "deletable": false,
    "editable": false
   },
   "outputs": [
    {
     "name": "stdout",
     "output_type": "stream",
     "text": [
      "[1] \"fitted\"\n"
     ]
    },
    {
     "data": {
      "text/html": [
       "<dl class=dl-horizontal>\n",
       "\t<dt>1</dt>\n",
       "\t\t<dd>22.3202071012681</dd>\n",
       "\t<dt>2</dt>\n",
       "\t\t<dd>20.6895074959298</dd>\n",
       "\t<dt>3</dt>\n",
       "\t\t<dd>24.0747502539664</dd>\n",
       "\t<dt>4</dt>\n",
       "\t\t<dd>19.2785936167189</dd>\n",
       "\t<dt>5</dt>\n",
       "\t\t<dd>18.3566004049746</dd>\n",
       "\t<dt>6</dt>\n",
       "\t\t<dd>18.1948543136102</dd>\n",
       "\t<dt>7</dt>\n",
       "\t\t<dd>17.7829147976458</dd>\n",
       "\t<dt>8</dt>\n",
       "\t\t<dd>19.9455031142101</dd>\n",
       "\t<dt>9</dt>\n",
       "\t\t<dd>20.4155783618075</dd>\n",
       "\t<dt>10</dt>\n",
       "\t\t<dd>18.5453485011573</dd>\n",
       "\t<dt>11</dt>\n",
       "\t\t<dd>18.5453485011573</dd>\n",
       "\t<dt>12</dt>\n",
       "\t\t<dd>15.7244271929934</dd>\n",
       "\t<dt>13</dt>\n",
       "\t\t<dd>17.1343818387994</dd>\n",
       "\t<dt>14</dt>\n",
       "\t\t<dd>16.9270355673574</dd>\n",
       "\t<dt>15</dt>\n",
       "\t\t<dd>11.4830468223862</dd>\n",
       "\t<dt>16</dt>\n",
       "\t\t<dd>10.468474335848</dd>\n",
       "\t<dt>17</dt>\n",
       "\t\t<dd>9.65079623894033</dd>\n",
       "\t<dt>18</dt>\n",
       "\t\t<dd>25.654703888853</dd>\n",
       "\t<dt>19</dt>\n",
       "\t\t<dd>34.0906848946004</dd>\n",
       "\t<dt>20</dt>\n",
       "\t\t<dd>28.8096807794287</dd>\n",
       "\t<dt>21</dt>\n",
       "\t\t<dd>24.1983096753214</dd>\n",
       "\t<dt>22</dt>\n",
       "\t\t<dd>17.9964150947557</dd>\n",
       "\t<dt>23</dt>\n",
       "\t\t<dd>18.378418393557</dd>\n",
       "\t<dt>24</dt>\n",
       "\t\t<dd>16.124985574862</dd>\n",
       "\t<dt>25</dt>\n",
       "\t\t<dd>16.6489676538974</dd>\n",
       "\t<dt>26</dt>\n",
       "\t\t<dd>27.4785433498266</dd>\n",
       "\t<dt>27</dt>\n",
       "\t\t<dd>27.3857668975878</dd>\n",
       "\t<dt>28</dt>\n",
       "\t\t<dd>28.6890131121626</dd>\n",
       "\t<dt>29</dt>\n",
       "\t\t<dd>19.1154587119623</dd>\n",
       "\t<dt>30</dt>\n",
       "\t\t<dd>20.7842398534528</dd>\n",
       "\t<dt>31</dt>\n",
       "\t\t<dd>16.2835591339497</dd>\n",
       "\t<dt>32</dt>\n",
       "\t\t<dd>21.7238845270116</dd>\n",
       "</dl>\n"
      ],
      "text/latex": [
       "\\begin{description*}\n",
       "\\item[1] 22.3202071012681\n",
       "\\item[2] 20.6895074959298\n",
       "\\item[3] 24.0747502539664\n",
       "\\item[4] 19.2785936167189\n",
       "\\item[5] 18.3566004049746\n",
       "\\item[6] 18.1948543136102\n",
       "\\item[7] 17.7829147976458\n",
       "\\item[8] 19.9455031142101\n",
       "\\item[9] 20.4155783618075\n",
       "\\item[10] 18.5453485011573\n",
       "\\item[11] 18.5453485011573\n",
       "\\item[12] 15.7244271929934\n",
       "\\item[13] 17.1343818387994\n",
       "\\item[14] 16.9270355673574\n",
       "\\item[15] 11.4830468223862\n",
       "\\item[16] 10.468474335848\n",
       "\\item[17] 9.65079623894033\n",
       "\\item[18] 25.654703888853\n",
       "\\item[19] 34.0906848946004\n",
       "\\item[20] 28.8096807794287\n",
       "\\item[21] 24.1983096753214\n",
       "\\item[22] 17.9964150947557\n",
       "\\item[23] 18.378418393557\n",
       "\\item[24] 16.124985574862\n",
       "\\item[25] 16.6489676538974\n",
       "\\item[26] 27.4785433498266\n",
       "\\item[27] 27.3857668975878\n",
       "\\item[28] 28.6890131121626\n",
       "\\item[29] 19.1154587119623\n",
       "\\item[30] 20.7842398534528\n",
       "\\item[31] 16.2835591339497\n",
       "\\item[32] 21.7238845270116\n",
       "\\end{description*}\n"
      ],
      "text/markdown": [
       "1\n",
       ":   22.32020710126812\n",
       ":   20.68950749592983\n",
       ":   24.07475025396644\n",
       ":   19.27859361671895\n",
       ":   18.35660040497466\n",
       ":   18.19485431361027\n",
       ":   17.78291479764588\n",
       ":   19.94550311421019\n",
       ":   20.415578361807510\n",
       ":   18.545348501157311\n",
       ":   18.545348501157312\n",
       ":   15.724427192993413\n",
       ":   17.134381838799414\n",
       ":   16.927035567357415\n",
       ":   11.483046822386216\n",
       ":   10.46847433584817\n",
       ":   9.6507962389403318\n",
       ":   25.65470388885319\n",
       ":   34.090684894600420\n",
       ":   28.809680779428721\n",
       ":   24.198309675321422\n",
       ":   17.996415094755723\n",
       ":   18.37841839355724\n",
       ":   16.12498557486225\n",
       ":   16.648967653897426\n",
       ":   27.478543349826627\n",
       ":   27.385766897587828\n",
       ":   28.689013112162629\n",
       ":   19.115458711962330\n",
       ":   20.784239853452831\n",
       ":   16.283559133949732\n",
       ":   21.7238845270116\n",
       "\n"
      ],
      "text/plain": [
       "        1         2         3         4         5         6         7         8 \n",
       "22.320207 20.689507 24.074750 19.278594 18.356600 18.194854 17.782915 19.945503 \n",
       "        9        10        11        12        13        14        15        16 \n",
       "20.415578 18.545349 18.545349 15.724427 17.134382 16.927036 11.483047 10.468474 \n",
       "       17        18        19        20        21        22        23        24 \n",
       " 9.650796 25.654704 34.090685 28.809681 24.198310 17.996415 18.378418 16.124986 \n",
       "       25        26        27        28        29        30        31        32 \n",
       "16.648968 27.478543 27.385767 28.689013 19.115459 20.784240 16.283559 21.723885 "
      ]
     },
     "metadata": {},
     "output_type": "display_data"
    }
   ],
   "source": [
    "# predicted values\n",
    "print(\"fitted\")\n",
    "fitted_values <- fitted.values(model2) \n",
    "fitted_values"
   ]
  },
  {
   "cell_type": "markdown",
   "metadata": {},
   "source": [
    " "
   ]
  },
  {
   "cell_type": "markdown",
   "metadata": {
    "deletable": false,
    "editable": false
   },
   "source": [
    "## Step 6: Residuals\n",
    "In this step, you will obtain the residuals using the model in step 4. Recall that the residual is the difference between the actual value and the predicted value of the dependent variable (miles per gallon). \n",
    "\n",
    "Click the block of code below and hit the **Run** button above.  "
   ]
  },
  {
   "cell_type": "code",
   "execution_count": 6,
   "metadata": {
    "deletable": false,
    "editable": false,
    "scrolled": true
   },
   "outputs": [
    {
     "name": "stdout",
     "output_type": "stream",
     "text": [
      "[1] \"residuals\"\n"
     ]
    },
    {
     "data": {
      "text/html": [
       "<dl class=dl-horizontal>\n",
       "\t<dt>1</dt>\n",
       "\t\t<dd>-1.32020710126808</dd>\n",
       "\t<dt>2</dt>\n",
       "\t\t<dd>0.310492504070191</dd>\n",
       "\t<dt>3</dt>\n",
       "\t\t<dd>-1.2747502539664</dd>\n",
       "\t<dt>4</dt>\n",
       "\t\t<dd>2.12140638328108</dd>\n",
       "\t<dt>5</dt>\n",
       "\t\t<dd>0.343399595025413</dd>\n",
       "\t<dt>6</dt>\n",
       "\t\t<dd>-0.0948543136101894</dd>\n",
       "\t<dt>7</dt>\n",
       "\t\t<dd>-3.48291479764585</dd>\n",
       "\t<dt>8</dt>\n",
       "\t\t<dd>4.45449688578988</dd>\n",
       "\t<dt>9</dt>\n",
       "\t\t<dd>2.38442163819248</dd>\n",
       "\t<dt>10</dt>\n",
       "\t\t<dd>0.654651498842696</dd>\n",
       "\t<dt>11</dt>\n",
       "\t\t<dd>-0.745348501157303</dd>\n",
       "\t<dt>12</dt>\n",
       "\t\t<dd>0.675572807006601</dd>\n",
       "\t<dt>13</dt>\n",
       "\t\t<dd>0.16561816120057</dd>\n",
       "\t<dt>14</dt>\n",
       "\t\t<dd>-1.72703556735736</dd>\n",
       "\t<dt>15</dt>\n",
       "\t\t<dd>-1.08304682238617</dd>\n",
       "\t<dt>16</dt>\n",
       "\t\t<dd>-0.068474335848017</dd>\n",
       "\t<dt>17</dt>\n",
       "\t\t<dd>5.04920376105967</dd>\n",
       "\t<dt>18</dt>\n",
       "\t\t<dd>6.74529611114699</dd>\n",
       "\t<dt>19</dt>\n",
       "\t\t<dd>-3.69068489460044</dd>\n",
       "\t<dt>20</dt>\n",
       "\t\t<dd>5.09031922057126</dd>\n",
       "\t<dt>21</dt>\n",
       "\t\t<dd>-2.69830967532141</dd>\n",
       "\t<dt>22</dt>\n",
       "\t\t<dd>-2.49641509475568</dd>\n",
       "\t<dt>23</dt>\n",
       "\t\t<dd>-3.17841839355699</dd>\n",
       "\t<dt>24</dt>\n",
       "\t\t<dd>-2.82498557486204</dd>\n",
       "\t<dt>25</dt>\n",
       "\t\t<dd>2.55103234610262</dd>\n",
       "\t<dt>26</dt>\n",
       "\t\t<dd>-0.178543349826627</dd>\n",
       "\t<dt>27</dt>\n",
       "\t\t<dd>-1.38576689758782</dd>\n",
       "\t<dt>28</dt>\n",
       "\t\t<dd>1.71098688783741</dd>\n",
       "\t<dt>29</dt>\n",
       "\t\t<dd>-3.31545871196233</dd>\n",
       "\t<dt>30</dt>\n",
       "\t\t<dd>-1.08423985345285</dd>\n",
       "\t<dt>31</dt>\n",
       "\t\t<dd>-1.28355913394969</dd>\n",
       "\t<dt>32</dt>\n",
       "\t\t<dd>-0.323884527011619</dd>\n",
       "</dl>\n"
      ],
      "text/latex": [
       "\\begin{description*}\n",
       "\\item[1] -1.32020710126808\n",
       "\\item[2] 0.310492504070191\n",
       "\\item[3] -1.2747502539664\n",
       "\\item[4] 2.12140638328108\n",
       "\\item[5] 0.343399595025413\n",
       "\\item[6] -0.0948543136101894\n",
       "\\item[7] -3.48291479764585\n",
       "\\item[8] 4.45449688578988\n",
       "\\item[9] 2.38442163819248\n",
       "\\item[10] 0.654651498842696\n",
       "\\item[11] -0.745348501157303\n",
       "\\item[12] 0.675572807006601\n",
       "\\item[13] 0.16561816120057\n",
       "\\item[14] -1.72703556735736\n",
       "\\item[15] -1.08304682238617\n",
       "\\item[16] -0.068474335848017\n",
       "\\item[17] 5.04920376105967\n",
       "\\item[18] 6.74529611114699\n",
       "\\item[19] -3.69068489460044\n",
       "\\item[20] 5.09031922057126\n",
       "\\item[21] -2.69830967532141\n",
       "\\item[22] -2.49641509475568\n",
       "\\item[23] -3.17841839355699\n",
       "\\item[24] -2.82498557486204\n",
       "\\item[25] 2.55103234610262\n",
       "\\item[26] -0.178543349826627\n",
       "\\item[27] -1.38576689758782\n",
       "\\item[28] 1.71098688783741\n",
       "\\item[29] -3.31545871196233\n",
       "\\item[30] -1.08423985345285\n",
       "\\item[31] -1.28355913394969\n",
       "\\item[32] -0.323884527011619\n",
       "\\end{description*}\n"
      ],
      "text/markdown": [
       "1\n",
       ":   -1.320207101268082\n",
       ":   0.3104925040701913\n",
       ":   -1.27475025396644\n",
       ":   2.121406383281085\n",
       ":   0.3433995950254136\n",
       ":   -0.09485431361018947\n",
       ":   -3.482914797645858\n",
       ":   4.454496885789889\n",
       ":   2.3844216381924810\n",
       ":   0.65465149884269611\n",
       ":   -0.74534850115730312\n",
       ":   0.67557280700660113\n",
       ":   0.1656181612005714\n",
       ":   -1.7270355673573615\n",
       ":   -1.0830468223861716\n",
       ":   -0.06847433584801717\n",
       ":   5.0492037610596718\n",
       ":   6.7452961111469919\n",
       ":   -3.6906848946004420\n",
       ":   5.0903192205712621\n",
       ":   -2.6983096753214122\n",
       ":   -2.4964150947556823\n",
       ":   -3.1784183935569924\n",
       ":   -2.8249855748620425\n",
       ":   2.5510323461026226\n",
       ":   -0.17854334982662727\n",
       ":   -1.3857668975878228\n",
       ":   1.7109868878374129\n",
       ":   -3.3154587119623330\n",
       ":   -1.0842398534528531\n",
       ":   -1.2835591339496932\n",
       ":   -0.323884527011619\n",
       "\n"
      ],
      "text/plain": [
       "          1           2           3           4           5           6 \n",
       "-1.32020710  0.31049250 -1.27475025  2.12140638  0.34339960 -0.09485431 \n",
       "          7           8           9          10          11          12 \n",
       "-3.48291480  4.45449689  2.38442164  0.65465150 -0.74534850  0.67557281 \n",
       "         13          14          15          16          17          18 \n",
       " 0.16561816 -1.72703557 -1.08304682 -0.06847434  5.04920376  6.74529611 \n",
       "         19          20          21          22          23          24 \n",
       "-3.69068489  5.09031922 -2.69830968 -2.49641509 -3.17841839 -2.82498557 \n",
       "         25          26          27          28          29          30 \n",
       " 2.55103235 -0.17854335 -1.38576690  1.71098689 -3.31545871 -1.08423985 \n",
       "         31          32 \n",
       "-1.28355913 -0.32388453 "
      ]
     },
     "metadata": {},
     "output_type": "display_data"
    }
   ],
   "source": [
    "# residuals\n",
    "print(\"residuals\")\n",
    "residuals <- residuals(model2)\n",
    "residuals"
   ]
  },
  {
   "cell_type": "markdown",
   "metadata": {},
   "source": [
    " "
   ]
  },
  {
   "cell_type": "markdown",
   "metadata": {
    "deletable": false,
    "editable": false
   },
   "source": [
    "## Step 7: Diagnostic Plots  &mdash;  Residuals against Fitted Values\n",
    "In this step, you will generate plot of residuals against fitted values to test the assumption of homoscadasticity.   \n",
    "\n",
    "Click the block of code below and hit the **Run** button above.  \n",
    "NOTE: If the plot is not created, click the code section and hit the **Run** button again."
   ]
  },
  {
   "cell_type": "code",
   "execution_count": 7,
   "metadata": {
    "deletable": false,
    "editable": false
   },
   "outputs": [
    {
     "data": {
      "image/png": "[encoded data removed]",
      "text/plain": [
       "Plot with title \"Residuals against Fitted Values\""
      ]
     },
     "metadata": {},
     "output_type": "display_data"
    }
   ],
   "source": [
    "plot(fitted_values, residuals, \n",
    "     main = \"Residuals against Fitted Values\",\n",
    "     xlab = \"Fitted Values\", ylab = \"Residuals\",\n",
    "     col=\"red\", \n",
    "     pch = 19, frame = FALSE)"
   ]
  },
  {
   "cell_type": "markdown",
   "metadata": {},
   "source": [
    " "
   ]
  },
  {
   "cell_type": "markdown",
   "metadata": {
    "deletable": false,
    "editable": false
   },
   "source": [
    "## Step 8: Diagnostic Plots  &mdash;  Q-Q Plot\n",
    "In this step, you will generate a Q-Q plot to test assumptions of normality of the residuals.   \n",
    "\n",
    "Click the block of code below and hit the **Run** button above.  \n",
    "NOTE: If the plot is not created, click the code section and hit the **Run** button again."
   ]
  },
  {
   "cell_type": "code",
   "execution_count": 8,
   "metadata": {
    "deletable": false,
    "editable": false
   },
   "outputs": [
    {
     "data": {
      "image/png": "[encoded data removed]",
      "text/plain": [
       "Plot with title \"Normal Q-Q Plot\""
      ]
     },
     "metadata": {},
     "output_type": "display_data"
    }
   ],
   "source": [
    "qqnorm(residuals, pch = 19, col=\"red\", frame = FALSE)\n",
    "qqline(residuals, col = \"blue\", lwd = 2)"
   ]
  },
  {
   "cell_type": "markdown",
   "metadata": {},
   "source": [
    " "
   ]
  },
  {
   "cell_type": "markdown",
   "metadata": {
    "deletable": false,
    "editable": false
   },
   "source": [
    "## Step 9: Confidence Interval for Parameter Estimates\n",
    "In this step, you will use the **confint** function to create 90% confidence intervals for the beta parameters.  \n",
    "\n",
    "Click the block of code below and hit the **Run** button above.  "
   ]
  },
  {
   "cell_type": "code",
   "execution_count": 9,
   "metadata": {
    "deletable": false,
    "editable": false,
    "scrolled": true
   },
   "outputs": [
    {
     "name": "stdout",
     "output_type": "stream",
     "text": [
      "[1] \"confint\"\n"
     ]
    },
    {
     "data": {
      "text/html": [
       "<table>\n",
       "<caption>A matrix: 5 × 2 of type dbl</caption>\n",
       "<thead>\n",
       "\t<tr><th></th><th scope=col>5 %</th><th scope=col>95 %</th></tr>\n",
       "</thead>\n",
       "<tbody>\n",
       "\t<tr><th scope=row>(Intercept)</th><td>-18.7488</td><td>25.2427</td></tr>\n",
       "\t<tr><th scope=row>wt</th><td> -2.3414</td><td>10.6771</td></tr>\n",
       "\t<tr><th scope=row>drat</th><td>  3.5516</td><td>15.5725</td></tr>\n",
       "\t<tr><th scope=row>am1</th><td> -4.1845</td><td> 1.2564</td></tr>\n",
       "\t<tr><th scope=row>wt:drat</th><td> -4.6004</td><td>-0.8164</td></tr>\n",
       "</tbody>\n",
       "</table>\n"
      ],
      "text/latex": [
       "A matrix: 5 × 2 of type dbl\n",
       "\\begin{tabular}{r|ll}\n",
       "  & 5 \\% & 95 \\%\\\\\n",
       "\\hline\n",
       "\t(Intercept) & -18.7488 & 25.2427\\\\\n",
       "\twt &  -2.3414 & 10.6771\\\\\n",
       "\tdrat &   3.5516 & 15.5725\\\\\n",
       "\tam1 &  -4.1845 &  1.2564\\\\\n",
       "\twt:drat &  -4.6004 & -0.8164\\\\\n",
       "\\end{tabular}\n"
      ],
      "text/markdown": [
       "\n",
       "A matrix: 5 × 2 of type dbl\n",
       "\n",
       "| <!--/--> | 5 % | 95 % |\n",
       "|---|---|---|\n",
       "| (Intercept) | -18.7488 | 25.2427 |\n",
       "| wt |  -2.3414 | 10.6771 |\n",
       "| drat |   3.5516 | 15.5725 |\n",
       "| am1 |  -4.1845 |  1.2564 |\n",
       "| wt:drat |  -4.6004 | -0.8164 |\n",
       "\n"
      ],
      "text/plain": [
       "            5 %      95 %   \n",
       "(Intercept) -18.7488 25.2427\n",
       "wt           -2.3414 10.6771\n",
       "drat          3.5516 15.5725\n",
       "am1          -4.1845  1.2564\n",
       "wt:drat      -4.6004 -0.8164"
      ]
     },
     "metadata": {},
     "output_type": "display_data"
    }
   ],
   "source": [
    "# confidence intervals for model parameters\n",
    "print(\"confint\")\n",
    "conf_90_int <- confint(model2, level=0.90) \n",
    "round(conf_90_int, 4)"
   ]
  },
  {
   "cell_type": "markdown",
   "metadata": {
    "scrolled": false
   },
   "source": [
    " "
   ]
  },
  {
   "cell_type": "markdown",
   "metadata": {
    "deletable": false,
    "editable": false
   },
   "source": [
    "## Step 10: Predictions, Prediction Interval, and Confidence Interval\n",
    "In this step, you will predict the fuel economy for a car that has a weight of 3.88, a rear axle ratio of 3.05, and has a manual transmission. You will also obtain a 90% prediction interval and confidence interval for this prediction. Note that this observation is not from the dataset that was used to create this model. \n",
    "\n",
    "Click the block of code below and hit the **Run** button above.  "
   ]
  },
  {
   "cell_type": "code",
   "execution_count": 10,
   "metadata": {
    "deletable": false,
    "editable": false
   },
   "outputs": [
    {
     "name": "stdout",
     "output_type": "stream",
     "text": [
      "[1] \"prediction interval\"\n"
     ]
    },
    {
     "data": {
      "text/html": [
       "<table>\n",
       "<caption>A matrix: 1 × 3 of type dbl</caption>\n",
       "<thead>\n",
       "\t<tr><th scope=col>fit</th><th scope=col>lwr</th><th scope=col>upr</th></tr>\n",
       "</thead>\n",
       "<tbody>\n",
       "\t<tr><td>15.0672</td><td>9.4501</td><td>20.6844</td></tr>\n",
       "</tbody>\n",
       "</table>\n"
      ],
      "text/latex": [
       "A matrix: 1 × 3 of type dbl\n",
       "\\begin{tabular}{r|lll}\n",
       " fit & lwr & upr\\\\\n",
       "\\hline\n",
       "\t 15.0672 & 9.4501 & 20.6844\\\\\n",
       "\\end{tabular}\n"
      ],
      "text/markdown": [
       "\n",
       "A matrix: 1 × 3 of type dbl\n",
       "\n",
       "| fit | lwr | upr |\n",
       "|---|---|---|\n",
       "| 15.0672 | 9.4501 | 20.6844 |\n",
       "\n"
      ],
      "text/plain": [
       "  fit     lwr    upr    \n",
       "1 15.0672 9.4501 20.6844"
      ]
     },
     "metadata": {},
     "output_type": "display_data"
    },
    {
     "name": "stdout",
     "output_type": "stream",
     "text": [
      "[1] \"confidence interval\"\n"
     ]
    },
    {
     "data": {
      "text/html": [
       "<table>\n",
       "<caption>A matrix: 1 × 3 of type dbl</caption>\n",
       "<thead>\n",
       "\t<tr><th scope=col>fit</th><th scope=col>lwr</th><th scope=col>upr</th></tr>\n",
       "</thead>\n",
       "<tbody>\n",
       "\t<tr><td>15.0672</td><td>12.2316</td><td>17.9029</td></tr>\n",
       "</tbody>\n",
       "</table>\n"
      ],
      "text/latex": [
       "A matrix: 1 × 3 of type dbl\n",
       "\\begin{tabular}{r|lll}\n",
       " fit & lwr & upr\\\\\n",
       "\\hline\n",
       "\t 15.0672 & 12.2316 & 17.9029\\\\\n",
       "\\end{tabular}\n"
      ],
      "text/markdown": [
       "\n",
       "A matrix: 1 × 3 of type dbl\n",
       "\n",
       "| fit | lwr | upr |\n",
       "|---|---|---|\n",
       "| 15.0672 | 12.2316 | 17.9029 |\n",
       "\n"
      ],
      "text/plain": [
       "  fit     lwr     upr    \n",
       "1 15.0672 12.2316 17.9029"
      ]
     },
     "metadata": {},
     "output_type": "display_data"
    }
   ],
   "source": [
    "newdata <- data.frame(wt=3.88, drat=3.05, am='1')\n",
    "\n",
    "print(\"prediction interval\")\n",
    "prediction_pred_int <- predict(model2, newdata, interval=\"predict\", level=0.90) \n",
    "round(prediction_pred_int, 4)\n",
    "\n",
    "print(\"confidence interval\")\n",
    "prediction_conf_int <- predict(model2, newdata, interval=\"confidence\", level=0.90) \n",
    "round(prediction_conf_int, 4)"
   ]
  },
  {
   "cell_type": "markdown",
   "metadata": {},
   "source": [
    " "
   ]
  },
  {
   "cell_type": "markdown",
   "metadata": {
    "deletable": false,
    "editable": false
   },
   "source": [
    "## Your Code\n",
    "\n",
    "You have been asked to create regression models in the Module Two Problem Set. Review the Problem Set Report template to see the questions you will be answering about your models.\n",
    "\n",
    "Use the empty blocks below to write the R code for your models and get outputs. Then use the outputs to answer the questions in your problem set report.\n",
    "\n",
    "**Note: Use the + (plus) button to add new code blocks or the scissor icon to remove empty code blocks, if needed.**"
   ]
  },
  {
   "cell_type": "markdown",
   "metadata": {},
   "source": [
    "## Model with Interaction Term\n",
    "### Brandon Gibbs\n",
    "### MAT 303 Applied Satistics STEM"
   ]
  },
  {
   "cell_type": "code",
   "execution_count": 11,
   "metadata": {},
   "outputs": [
    {
     "data": {
      "text/html": [
       "<table>\n",
       "<caption>A data.frame: 6 × 12</caption>\n",
       "<thead>\n",
       "\t<tr><th scope=col>car</th><th scope=col>mpg</th><th scope=col>cyl</th><th scope=col>disp</th><th scope=col>hp</th><th scope=col>drat</th><th scope=col>wt</th><th scope=col>qsec</th><th scope=col>vs</th><th scope=col>am</th><th scope=col>gear</th><th scope=col>carb</th></tr>\n",
       "\t<tr><th scope=col>&lt;fct&gt;</th><th scope=col>&lt;dbl&gt;</th><th scope=col>&lt;fct&gt;</th><th scope=col>&lt;dbl&gt;</th><th scope=col>&lt;int&gt;</th><th scope=col>&lt;dbl&gt;</th><th scope=col>&lt;dbl&gt;</th><th scope=col>&lt;dbl&gt;</th><th scope=col>&lt;fct&gt;</th><th scope=col>&lt;fct&gt;</th><th scope=col>&lt;fct&gt;</th><th scope=col>&lt;fct&gt;</th></tr>\n",
       "</thead>\n",
       "<tbody>\n",
       "\t<tr><td>Mazda RX4        </td><td>21.0</td><td>6</td><td>160</td><td>110</td><td>3.90</td><td>2.620</td><td>16.46</td><td>0</td><td>1</td><td>4</td><td>4</td></tr>\n",
       "\t<tr><td>Mazda RX4 Wag    </td><td>21.0</td><td>6</td><td>160</td><td>110</td><td>3.90</td><td>2.875</td><td>17.02</td><td>0</td><td>1</td><td>4</td><td>4</td></tr>\n",
       "\t<tr><td>Datsun 710       </td><td>22.8</td><td>4</td><td>108</td><td> 93</td><td>3.85</td><td>2.320</td><td>18.61</td><td>1</td><td>1</td><td>4</td><td>1</td></tr>\n",
       "\t<tr><td>Hornet 4 Drive   </td><td>21.4</td><td>6</td><td>258</td><td>110</td><td>3.08</td><td>3.215</td><td>19.44</td><td>1</td><td>0</td><td>3</td><td>1</td></tr>\n",
       "\t<tr><td>Hornet Sportabout</td><td>18.7</td><td>8</td><td>360</td><td>175</td><td>3.15</td><td>3.440</td><td>17.02</td><td>0</td><td>0</td><td>3</td><td>2</td></tr>\n",
       "\t<tr><td>Valiant          </td><td>18.1</td><td>6</td><td>225</td><td>105</td><td>2.76</td><td>3.460</td><td>20.22</td><td>1</td><td>0</td><td>3</td><td>1</td></tr>\n",
       "</tbody>\n",
       "</table>\n"
      ],
      "text/latex": [
       "A data.frame: 6 × 12\n",
       "\\begin{tabular}{r|llllllllllll}\n",
       " car & mpg & cyl & disp & hp & drat & wt & qsec & vs & am & gear & carb\\\\\n",
       " <fct> & <dbl> & <fct> & <dbl> & <int> & <dbl> & <dbl> & <dbl> & <fct> & <fct> & <fct> & <fct>\\\\\n",
       "\\hline\n",
       "\t Mazda RX4         & 21.0 & 6 & 160 & 110 & 3.90 & 2.620 & 16.46 & 0 & 1 & 4 & 4\\\\\n",
       "\t Mazda RX4 Wag     & 21.0 & 6 & 160 & 110 & 3.90 & 2.875 & 17.02 & 0 & 1 & 4 & 4\\\\\n",
       "\t Datsun 710        & 22.8 & 4 & 108 &  93 & 3.85 & 2.320 & 18.61 & 1 & 1 & 4 & 1\\\\\n",
       "\t Hornet 4 Drive    & 21.4 & 6 & 258 & 110 & 3.08 & 3.215 & 19.44 & 1 & 0 & 3 & 1\\\\\n",
       "\t Hornet Sportabout & 18.7 & 8 & 360 & 175 & 3.15 & 3.440 & 17.02 & 0 & 0 & 3 & 2\\\\\n",
       "\t Valiant           & 18.1 & 6 & 225 & 105 & 2.76 & 3.460 & 20.22 & 1 & 0 & 3 & 1\\\\\n",
       "\\end{tabular}\n"
      ],
      "text/markdown": [
       "\n",
       "A data.frame: 6 × 12\n",
       "\n",
       "| car &lt;fct&gt; | mpg &lt;dbl&gt; | cyl &lt;fct&gt; | disp &lt;dbl&gt; | hp &lt;int&gt; | drat &lt;dbl&gt; | wt &lt;dbl&gt; | qsec &lt;dbl&gt; | vs &lt;fct&gt; | am &lt;fct&gt; | gear &lt;fct&gt; | carb &lt;fct&gt; |\n",
       "|---|---|---|---|---|---|---|---|---|---|---|---|\n",
       "| Mazda RX4         | 21.0 | 6 | 160 | 110 | 3.90 | 2.620 | 16.46 | 0 | 1 | 4 | 4 |\n",
       "| Mazda RX4 Wag     | 21.0 | 6 | 160 | 110 | 3.90 | 2.875 | 17.02 | 0 | 1 | 4 | 4 |\n",
       "| Datsun 710        | 22.8 | 4 | 108 |  93 | 3.85 | 2.320 | 18.61 | 1 | 1 | 4 | 1 |\n",
       "| Hornet 4 Drive    | 21.4 | 6 | 258 | 110 | 3.08 | 3.215 | 19.44 | 1 | 0 | 3 | 1 |\n",
       "| Hornet Sportabout | 18.7 | 8 | 360 | 175 | 3.15 | 3.440 | 17.02 | 0 | 0 | 3 | 2 |\n",
       "| Valiant           | 18.1 | 6 | 225 | 105 | 2.76 | 3.460 | 20.22 | 1 | 0 | 3 | 1 |\n",
       "\n"
      ],
      "text/plain": [
       "  car               mpg  cyl disp hp  drat wt    qsec  vs am gear carb\n",
       "1 Mazda RX4         21.0 6   160  110 3.90 2.620 16.46 0  1  4    4   \n",
       "2 Mazda RX4 Wag     21.0 6   160  110 3.90 2.875 17.02 0  1  4    4   \n",
       "3 Datsun 710        22.8 4   108   93 3.85 2.320 18.61 1  1  4    1   \n",
       "4 Hornet 4 Drive    21.4 6   258  110 3.08 3.215 19.44 1  0  3    1   \n",
       "5 Hornet Sportabout 18.7 8   360  175 3.15 3.440 17.02 0  0  3    2   \n",
       "6 Valiant           18.1 6   225  105 2.76 3.460 20.22 1  0  3    1   "
      ]
     },
     "metadata": {},
     "output_type": "display_data"
    }
   ],
   "source": [
    "# Loading mtcars data set from a mtcars.csv file\n",
    "mtcars <- read.csv(file='mtcars.csv', header=TRUE, sep=\",\")\n",
    "\n",
    "# Converting appropriate variables to factors  \n",
    "mtcars2 <- within(mtcars, {\n",
    "   vs <- factor(vs)\n",
    "   am <- factor(am)\n",
    "   cyl  <- factor(cyl)\n",
    "   gear <- factor(gear)\n",
    "   carb <- factor(carb)\n",
    "})\n",
    "\n",
    "\n",
    "# Print the first six rows\n",
    "head(mtcars2, 6)"
   ]
  },
  {
   "cell_type": "code",
   "execution_count": 12,
   "metadata": {},
   "outputs": [
    {
     "name": "stdout",
     "output_type": "stream",
     "text": [
      "[1] \"head\"\n"
     ]
    },
    {
     "data": {
      "text/html": [
       "<table>\n",
       "<caption>A data.frame: 6 × 4</caption>\n",
       "<thead>\n",
       "\t<tr><th scope=col>mpg</th><th scope=col>hp</th><th scope=col>qsec</th><th scope=col>drat</th></tr>\n",
       "\t<tr><th scope=col>&lt;dbl&gt;</th><th scope=col>&lt;int&gt;</th><th scope=col>&lt;dbl&gt;</th><th scope=col>&lt;dbl&gt;</th></tr>\n",
       "</thead>\n",
       "<tbody>\n",
       "\t<tr><td>21.0</td><td>110</td><td>16.46</td><td>3.90</td></tr>\n",
       "\t<tr><td>21.0</td><td>110</td><td>17.02</td><td>3.90</td></tr>\n",
       "\t<tr><td>22.8</td><td> 93</td><td>18.61</td><td>3.85</td></tr>\n",
       "\t<tr><td>21.4</td><td>110</td><td>19.44</td><td>3.08</td></tr>\n",
       "\t<tr><td>18.7</td><td>175</td><td>17.02</td><td>3.15</td></tr>\n",
       "\t<tr><td>18.1</td><td>105</td><td>20.22</td><td>2.76</td></tr>\n",
       "</tbody>\n",
       "</table>\n"
      ],
      "text/latex": [
       "A data.frame: 6 × 4\n",
       "\\begin{tabular}{r|llll}\n",
       " mpg & hp & qsec & drat\\\\\n",
       " <dbl> & <int> & <dbl> & <dbl>\\\\\n",
       "\\hline\n",
       "\t 21.0 & 110 & 16.46 & 3.90\\\\\n",
       "\t 21.0 & 110 & 17.02 & 3.90\\\\\n",
       "\t 22.8 &  93 & 18.61 & 3.85\\\\\n",
       "\t 21.4 & 110 & 19.44 & 3.08\\\\\n",
       "\t 18.7 & 175 & 17.02 & 3.15\\\\\n",
       "\t 18.1 & 105 & 20.22 & 2.76\\\\\n",
       "\\end{tabular}\n"
      ],
      "text/markdown": [
       "\n",
       "A data.frame: 6 × 4\n",
       "\n",
       "| mpg &lt;dbl&gt; | hp &lt;int&gt; | qsec &lt;dbl&gt; | drat &lt;dbl&gt; |\n",
       "|---|---|---|---|\n",
       "| 21.0 | 110 | 16.46 | 3.90 |\n",
       "| 21.0 | 110 | 17.02 | 3.90 |\n",
       "| 22.8 |  93 | 18.61 | 3.85 |\n",
       "| 21.4 | 110 | 19.44 | 3.08 |\n",
       "| 18.7 | 175 | 17.02 | 3.15 |\n",
       "| 18.1 | 105 | 20.22 | 2.76 |\n",
       "\n"
      ],
      "text/plain": [
       "  mpg  hp  qsec  drat\n",
       "1 21.0 110 16.46 3.90\n",
       "2 21.0 110 17.02 3.90\n",
       "3 22.8  93 18.61 3.85\n",
       "4 21.4 110 19.44 3.08\n",
       "5 18.7 175 17.02 3.15\n",
       "6 18.1 105 20.22 2.76"
      ]
     },
     "metadata": {},
     "output_type": "display_data"
    },
    {
     "name": "stdout",
     "output_type": "stream",
     "text": [
      "[1] \"correlation matrix for mpg, hp, drat & qsec\"\n"
     ]
    },
    {
     "data": {
      "text/html": [
       "<table>\n",
       "<caption>A matrix: 4 × 4 of type dbl</caption>\n",
       "<thead>\n",
       "\t<tr><th></th><th scope=col>mpg</th><th scope=col>hp</th><th scope=col>qsec</th><th scope=col>drat</th></tr>\n",
       "</thead>\n",
       "<tbody>\n",
       "\t<tr><th scope=row>mpg</th><td> 1.0000</td><td>-0.7762</td><td> 0.4187</td><td> 0.6812</td></tr>\n",
       "\t<tr><th scope=row>hp</th><td>-0.7762</td><td> 1.0000</td><td>-0.7082</td><td>-0.4488</td></tr>\n",
       "\t<tr><th scope=row>qsec</th><td> 0.4187</td><td>-0.7082</td><td> 1.0000</td><td> 0.0912</td></tr>\n",
       "\t<tr><th scope=row>drat</th><td> 0.6812</td><td>-0.4488</td><td> 0.0912</td><td> 1.0000</td></tr>\n",
       "</tbody>\n",
       "</table>\n"
      ],
      "text/latex": [
       "A matrix: 4 × 4 of type dbl\n",
       "\\begin{tabular}{r|llll}\n",
       "  & mpg & hp & qsec & drat\\\\\n",
       "\\hline\n",
       "\tmpg &  1.0000 & -0.7762 &  0.4187 &  0.6812\\\\\n",
       "\thp & -0.7762 &  1.0000 & -0.7082 & -0.4488\\\\\n",
       "\tqsec &  0.4187 & -0.7082 &  1.0000 &  0.0912\\\\\n",
       "\tdrat &  0.6812 & -0.4488 &  0.0912 &  1.0000\\\\\n",
       "\\end{tabular}\n"
      ],
      "text/markdown": [
       "\n",
       "A matrix: 4 × 4 of type dbl\n",
       "\n",
       "| <!--/--> | mpg | hp | qsec | drat |\n",
       "|---|---|---|---|---|\n",
       "| mpg |  1.0000 | -0.7762 |  0.4187 |  0.6812 |\n",
       "| hp | -0.7762 |  1.0000 | -0.7082 | -0.4488 |\n",
       "| qsec |  0.4187 | -0.7082 |  1.0000 |  0.0912 |\n",
       "| drat |  0.6812 | -0.4488 |  0.0912 |  1.0000 |\n",
       "\n"
      ],
      "text/plain": [
       "     mpg     hp      qsec    drat   \n",
       "mpg   1.0000 -0.7762  0.4187  0.6812\n",
       "hp   -0.7762  1.0000 -0.7082 -0.4488\n",
       "qsec  0.4187 -0.7082  1.0000  0.0912\n",
       "drat  0.6812 -0.4488  0.0912  1.0000"
      ]
     },
     "metadata": {},
     "output_type": "display_data"
    }
   ],
   "source": [
    "# Subsetting data to only include the variables that are needed for model 1 mpg, drat, hp, qsec\n",
    "myvars <- c(\"mpg\",\"hp\",\"qsec\", \"drat\")\n",
    "mtcars_subset <- mtcars2[myvars]\n",
    "\n",
    "# Print the first six rows\n",
    "print(\"head\")\n",
    "head(mtcars_subset)\n",
    "\n",
    "# Print the correlation matrix\n",
    "print(\"correlation matrix for mpg, hp, drat & qsec\")\n",
    "corr_matrix <- cor(mtcars_subset, method = \"pearson\")\n",
    "round(corr_matrix, 4)"
   ]
  },
  {
   "cell_type": "markdown",
   "metadata": {},
   "source": [
    "The general form of this regression model equation is:\n",
    "<br><br>\n",
    "\\begin{equation*}\n",
    "E\\left(y\\right)=\\beta_0+\\beta_1x_1+\\beta_2x_2+\\beta_3x_3+\\beta_4\\left(x_1x_2\\right)+\\beta_5\\left(x_1x_3\\right)\n",
    "\\end{equation*}\n",
    "<br><br>\n",
    "The prediction regression model equation is:\n",
    "<br><br>\n",
    "\\begin{equation*}\n",
    "\\hat{y} = \\hat{{\\beta}}_0 + \\hat{{\\beta}}_1x_1+ \\hat{{\\beta}}_2x_2+ \\hat{{\\beta}}_3x_3+ \\hat{{\\beta}}_4\\left(x_1x_2\\right)+ \\hat{{\\beta}}_5x\\left(x_1x_3\\right)\n",
    "\\end{equation*}\n",
    "<br><br>\n",
    "\n",
    "### Pearson Correlation Coefficients\n",
    "\n",
    "#### Fuel Economy (mpg) and Horsepower (hp):\n",
    "\n",
    "Correlation Coefficient: -0.7762\n",
    "\n",
    "Interpretation: There is a strong negative correlation between fuel economy and horsepower. indicates that as horsepower increases, fuel economy tends to decrease.\n",
    "\n",
    "#### Fuel Economy (mpg) and Quarter Mile Time (qsec):\n",
    "\n",
    "Correlation Coefficient: 0.4187\n",
    "\n",
    "Interpretation: There is a moderate positive correlation between fuel economy and quarter mile time. Suggests that cars with better fuel economy may have longer quarter mile times.\n",
    "\n",
    "#### Fuel Economy (mpg) and Rear Axle Ratio (drat):\n",
    "\n",
    "Correlation Coefficient: 0.6812\n",
    "\n",
    "Interpretation: There is a strong positive correlation between fuel economy and rear axle ratio. Indicates that cars with higher rear axle ratios tend to have better fuel economy."
   ]
  },
  {
   "cell_type": "code",
   "execution_count": 13,
   "metadata": {},
   "outputs": [
    {
     "data": {
      "text/plain": [
       "\n",
       "Call:\n",
       "lm(formula = mpg ~ hp + qsec + drat + hp:qsec + hp:drat, data = mtcars_subset)\n",
       "\n",
       "Residuals:\n",
       "    Min      1Q  Median      3Q     Max \n",
       "-3.2232 -1.8013 -0.8507  0.9860  8.1060 \n",
       "\n",
       "Coefficients:\n",
       "              Estimate Std. Error t value Pr(>|t|)   \n",
       "(Intercept) -14.529137  16.136488  -0.900  0.37618   \n",
       "hp            0.352800   0.130176   2.710  0.01175 * \n",
       "qsec          1.509555   0.699838   2.157  0.04043 * \n",
       "drat          5.666624   2.510466   2.257  0.03262 * \n",
       "hp:qsec      -0.018723   0.005735  -3.265  0.00307 **\n",
       "hp:drat      -0.033246   0.018506  -1.796  0.08405 . \n",
       "---\n",
       "Signif. codes:  0 '***' 0.001 '**' 0.01 '*' 0.05 '.' 0.1 ' ' 1\n",
       "\n",
       "Residual standard error: 2.787 on 26 degrees of freedom\n",
       "Multiple R-squared:  0.8207,\tAdjusted R-squared:  0.7862 \n",
       "F-statistic:  23.8 on 5 and 26 DF,  p-value: 6.098e-09\n"
      ]
     },
     "metadata": {},
     "output_type": "display_data"
    }
   ],
   "source": [
    "# Create the model for fuel economy (mpg) with horsepower (hp), quarter mile time (qsec), rear axle ratio (drat), and their interactions\n",
    "model1 <- lm(mpg ~ hp + qsec + drat + hp:qsec + hp:drat, data=mtcars_subset)\n",
    "summary(model1)"
   ]
  },
  {
   "cell_type": "markdown",
   "metadata": {},
   "source": [
    "From the output, the prediction model equation is:\n",
    "<br><br>\n",
    "\\begin{equation*}\n",
    "\\hat{Y} = -14.529137 + 0.352800x_1 + 1.509555x_2 + 5.666624x_3 - 0.018723(x_1x_2) - 0.033246(x_1x_3)\n",
    "\\end{equation*}\n",
    "<br><br>"
   ]
  },
  {
   "cell_type": "code",
   "execution_count": 14,
   "metadata": {},
   "outputs": [
    {
     "name": "stdout",
     "output_type": "stream",
     "text": [
      "[1] \"fitted\"\n"
     ]
    },
    {
     "data": {
      "text/html": [
       "<dl class=dl-horizontal>\n",
       "\t<dt>1</dt>\n",
       "\t\t<dd>23.0640708198673</dd>\n",
       "\t<dt>2</dt>\n",
       "\t\t<dd>22.7560965416762</dd>\n",
       "\t<dt>3</dt>\n",
       "\t\t<dd>23.8828522148175</dd>\n",
       "\t<dt>4</dt>\n",
       "\t\t<dd>19.7773368270916</dd>\n",
       "\t<dt>5</dt>\n",
       "\t\t<dd>16.660809902811</dd>\n",
       "\t<dt>6</dt>\n",
       "\t\t<dd>19.2929667772917</dd>\n",
       "\t<dt>7</dt>\n",
       "\t\t<dd>15.2025675799884</dd>\n",
       "\t<dt>8</dt>\n",
       "\t\t<dd>27.6231827635615</dd>\n",
       "\t<dt>9</dt>\n",
       "\t\t<dd>22.6566874844282</dd>\n",
       "\t<dt>10</dt>\n",
       "\t\t<dd>20.5303929225349</dd>\n",
       "\t<dt>11</dt>\n",
       "\t\t<dd>20.0543825701106</dd>\n",
       "\t<dt>12</dt>\n",
       "\t\t<dd>15.6262787574047</dd>\n",
       "\t<dt>13</dt>\n",
       "\t\t<dd>15.254168615422</dd>\n",
       "\t<dt>14</dt>\n",
       "\t\t<dd>14.5099483314564</dd>\n",
       "\t<dt>15</dt>\n",
       "\t\t<dd>12.5604779916406</dd>\n",
       "\t<dt>16</dt>\n",
       "\t\t<dd>12.0468718531989</dd>\n",
       "\t<dt>17</dt>\n",
       "\t\t<dd>11.501514719978</dd>\n",
       "\t<dt>18</dt>\n",
       "\t\t<dd>28.2549515026829</dd>\n",
       "\t<dt>19</dt>\n",
       "\t\t<dd>33.1562068424622</dd>\n",
       "\t<dt>20</dt>\n",
       "\t\t<dd>29.0189245657339</dd>\n",
       "\t<dt>21</dt>\n",
       "\t\t<dd>22.5928939269321</dd>\n",
       "\t<dt>22</dt>\n",
       "\t\t<dd>18.3551781940077</dd>\n",
       "\t<dt>23</dt>\n",
       "\t\t<dd>18.0617764059709</dd>\n",
       "\t<dt>24</dt>\n",
       "\t\t<dd>15.237051109406</dd>\n",
       "\t<dt>25</dt>\n",
       "\t\t<dd>16.6183977653761</dd>\n",
       "\t<dt>26</dt>\n",
       "\t\t<dd>28.0988572676382</dd>\n",
       "\t<dt>27</dt>\n",
       "\t\t<dd>26.033002807961</dd>\n",
       "\t<dt>28</dt>\n",
       "\t\t<dd>22.2939885539998</dd>\n",
       "\t<dt>29</dt>\n",
       "\t\t<dd>15.7025377010858</dd>\n",
       "\t<dt>30</dt>\n",
       "\t\t<dd>19.2754093126499</dd>\n",
       "\t<dt>31</dt>\n",
       "\t\t<dd>14.7589486862768</dd>\n",
       "\t<dt>32</dt>\n",
       "\t\t<dd>22.441268684537</dd>\n",
       "</dl>\n"
      ],
      "text/latex": [
       "\\begin{description*}\n",
       "\\item[1] 23.0640708198673\n",
       "\\item[2] 22.7560965416762\n",
       "\\item[3] 23.8828522148175\n",
       "\\item[4] 19.7773368270916\n",
       "\\item[5] 16.660809902811\n",
       "\\item[6] 19.2929667772917\n",
       "\\item[7] 15.2025675799884\n",
       "\\item[8] 27.6231827635615\n",
       "\\item[9] 22.6566874844282\n",
       "\\item[10] 20.5303929225349\n",
       "\\item[11] 20.0543825701106\n",
       "\\item[12] 15.6262787574047\n",
       "\\item[13] 15.254168615422\n",
       "\\item[14] 14.5099483314564\n",
       "\\item[15] 12.5604779916406\n",
       "\\item[16] 12.0468718531989\n",
       "\\item[17] 11.501514719978\n",
       "\\item[18] 28.2549515026829\n",
       "\\item[19] 33.1562068424622\n",
       "\\item[20] 29.0189245657339\n",
       "\\item[21] 22.5928939269321\n",
       "\\item[22] 18.3551781940077\n",
       "\\item[23] 18.0617764059709\n",
       "\\item[24] 15.237051109406\n",
       "\\item[25] 16.6183977653761\n",
       "\\item[26] 28.0988572676382\n",
       "\\item[27] 26.033002807961\n",
       "\\item[28] 22.2939885539998\n",
       "\\item[29] 15.7025377010858\n",
       "\\item[30] 19.2754093126499\n",
       "\\item[31] 14.7589486862768\n",
       "\\item[32] 22.441268684537\n",
       "\\end{description*}\n"
      ],
      "text/markdown": [
       "1\n",
       ":   23.06407081986732\n",
       ":   22.75609654167623\n",
       ":   23.88285221481754\n",
       ":   19.77733682709165\n",
       ":   16.6608099028116\n",
       ":   19.29296677729177\n",
       ":   15.20256757998848\n",
       ":   27.62318276356159\n",
       ":   22.656687484428210\n",
       ":   20.530392922534911\n",
       ":   20.054382570110612\n",
       ":   15.626278757404713\n",
       ":   15.25416861542214\n",
       ":   14.509948331456415\n",
       ":   12.560477991640616\n",
       ":   12.046871853198917\n",
       ":   11.50151471997818\n",
       ":   28.254951502682919\n",
       ":   33.156206842462220\n",
       ":   29.018924565733921\n",
       ":   22.592893926932122\n",
       ":   18.355178194007723\n",
       ":   18.061776405970924\n",
       ":   15.23705110940625\n",
       ":   16.618397765376126\n",
       ":   28.098857267638227\n",
       ":   26.03300280796128\n",
       ":   22.293988553999829\n",
       ":   15.702537701085830\n",
       ":   19.275409312649931\n",
       ":   14.758948686276832\n",
       ":   22.441268684537\n",
       "\n"
      ],
      "text/plain": [
       "       1        2        3        4        5        6        7        8 \n",
       "23.06407 22.75610 23.88285 19.77734 16.66081 19.29297 15.20257 27.62318 \n",
       "       9       10       11       12       13       14       15       16 \n",
       "22.65669 20.53039 20.05438 15.62628 15.25417 14.50995 12.56048 12.04687 \n",
       "      17       18       19       20       21       22       23       24 \n",
       "11.50151 28.25495 33.15621 29.01892 22.59289 18.35518 18.06178 15.23705 \n",
       "      25       26       27       28       29       30       31       32 \n",
       "16.61840 28.09886 26.03300 22.29399 15.70254 19.27541 14.75895 22.44127 "
      ]
     },
     "metadata": {},
     "output_type": "display_data"
    }
   ],
   "source": [
    "# predicted values\n",
    "print(\"fitted\")\n",
    "fitted_values <- fitted.values(model1) \n",
    "fitted_values"
   ]
  },
  {
   "cell_type": "code",
   "execution_count": 15,
   "metadata": {},
   "outputs": [
    {
     "name": "stdout",
     "output_type": "stream",
     "text": [
      "[1] \"residuals\"\n"
     ]
    },
    {
     "data": {
      "text/html": [
       "<dl class=dl-horizontal>\n",
       "\t<dt>1</dt>\n",
       "\t\t<dd>-2.06407081986731</dd>\n",
       "\t<dt>2</dt>\n",
       "\t\t<dd>-1.75609654167625</dd>\n",
       "\t<dt>3</dt>\n",
       "\t\t<dd>-1.0828522148175</dd>\n",
       "\t<dt>4</dt>\n",
       "\t\t<dd>1.62266317290842</dd>\n",
       "\t<dt>5</dt>\n",
       "\t\t<dd>2.03919009718897</dd>\n",
       "\t<dt>6</dt>\n",
       "\t\t<dd>-1.19296677729174</dd>\n",
       "\t<dt>7</dt>\n",
       "\t\t<dd>-0.902567579988415</dd>\n",
       "\t<dt>8</dt>\n",
       "\t\t<dd>-3.22318276356146</dd>\n",
       "\t<dt>9</dt>\n",
       "\t\t<dd>0.1433125155718</dd>\n",
       "\t<dt>10</dt>\n",
       "\t\t<dd>-1.33039292253488</dd>\n",
       "\t<dt>11</dt>\n",
       "\t\t<dd>-2.25438257011059</dd>\n",
       "\t<dt>12</dt>\n",
       "\t\t<dd>0.77372124259526</dd>\n",
       "\t<dt>13</dt>\n",
       "\t\t<dd>2.04583138457804</dd>\n",
       "\t<dt>14</dt>\n",
       "\t\t<dd>0.690051668543557</dd>\n",
       "\t<dt>15</dt>\n",
       "\t\t<dd>-2.16047799164062</dd>\n",
       "\t<dt>16</dt>\n",
       "\t\t<dd>-1.64687185319891</dd>\n",
       "\t<dt>17</dt>\n",
       "\t\t<dd>3.19848528002198</dd>\n",
       "\t<dt>18</dt>\n",
       "\t\t<dd>4.14504849731705</dd>\n",
       "\t<dt>19</dt>\n",
       "\t\t<dd>-2.75620684246223</dd>\n",
       "\t<dt>20</dt>\n",
       "\t\t<dd>4.88107543426612</dd>\n",
       "\t<dt>21</dt>\n",
       "\t\t<dd>-1.09289392693206</dd>\n",
       "\t<dt>22</dt>\n",
       "\t\t<dd>-2.85517819400766</dd>\n",
       "\t<dt>23</dt>\n",
       "\t\t<dd>-2.86177640597088</dd>\n",
       "\t<dt>24</dt>\n",
       "\t\t<dd>-1.93705110940602</dd>\n",
       "\t<dt>25</dt>\n",
       "\t\t<dd>2.58160223462389</dd>\n",
       "\t<dt>26</dt>\n",
       "\t\t<dd>-0.798857267638215</dd>\n",
       "\t<dt>27</dt>\n",
       "\t\t<dd>-0.0330028079610146</dd>\n",
       "\t<dt>28</dt>\n",
       "\t\t<dd>8.10601144600023</dd>\n",
       "\t<dt>29</dt>\n",
       "\t\t<dd>0.097462298914216</dd>\n",
       "\t<dt>30</dt>\n",
       "\t\t<dd>0.424590687350082</dd>\n",
       "\t<dt>31</dt>\n",
       "\t\t<dd>0.241051313723201</dd>\n",
       "\t<dt>32</dt>\n",
       "\t\t<dd>-1.04126868453705</dd>\n",
       "</dl>\n"
      ],
      "text/latex": [
       "\\begin{description*}\n",
       "\\item[1] -2.06407081986731\n",
       "\\item[2] -1.75609654167625\n",
       "\\item[3] -1.0828522148175\n",
       "\\item[4] 1.62266317290842\n",
       "\\item[5] 2.03919009718897\n",
       "\\item[6] -1.19296677729174\n",
       "\\item[7] -0.902567579988415\n",
       "\\item[8] -3.22318276356146\n",
       "\\item[9] 0.1433125155718\n",
       "\\item[10] -1.33039292253488\n",
       "\\item[11] -2.25438257011059\n",
       "\\item[12] 0.77372124259526\n",
       "\\item[13] 2.04583138457804\n",
       "\\item[14] 0.690051668543557\n",
       "\\item[15] -2.16047799164062\n",
       "\\item[16] -1.64687185319891\n",
       "\\item[17] 3.19848528002198\n",
       "\\item[18] 4.14504849731705\n",
       "\\item[19] -2.75620684246223\n",
       "\\item[20] 4.88107543426612\n",
       "\\item[21] -1.09289392693206\n",
       "\\item[22] -2.85517819400766\n",
       "\\item[23] -2.86177640597088\n",
       "\\item[24] -1.93705110940602\n",
       "\\item[25] 2.58160223462389\n",
       "\\item[26] -0.798857267638215\n",
       "\\item[27] -0.0330028079610146\n",
       "\\item[28] 8.10601144600023\n",
       "\\item[29] 0.097462298914216\n",
       "\\item[30] 0.424590687350082\n",
       "\\item[31] 0.241051313723201\n",
       "\\item[32] -1.04126868453705\n",
       "\\end{description*}\n"
      ],
      "text/markdown": [
       "1\n",
       ":   -2.064070819867312\n",
       ":   -1.756096541676253\n",
       ":   -1.08285221481754\n",
       ":   1.622663172908425\n",
       ":   2.039190097188976\n",
       ":   -1.192966777291747\n",
       ":   -0.9025675799884158\n",
       ":   -3.223182763561469\n",
       ":   0.143312515571810\n",
       ":   -1.3303929225348811\n",
       ":   -2.2543825701105912\n",
       ":   0.7737212425952613\n",
       ":   2.0458313845780414\n",
       ":   0.69005166854355715\n",
       ":   -2.1604779916406216\n",
       ":   -1.6468718531989117\n",
       ":   3.1984852800219818\n",
       ":   4.1450484973170519\n",
       ":   -2.7562068424622320\n",
       ":   4.8810754342661221\n",
       ":   -1.0928939269320622\n",
       ":   -2.8551781940076623\n",
       ":   -2.8617764059708824\n",
       ":   -1.9370511094060225\n",
       ":   2.5816022346238926\n",
       ":   -0.79885726763821527\n",
       ":   -0.033002807961014628\n",
       ":   8.1060114460002329\n",
       ":   0.09746229891421630\n",
       ":   0.42459068735008231\n",
       ":   0.24105131372320132\n",
       ":   -1.04126868453705\n",
       "\n"
      ],
      "text/plain": [
       "          1           2           3           4           5           6 \n",
       "-2.06407082 -1.75609654 -1.08285221  1.62266317  2.03919010 -1.19296678 \n",
       "          7           8           9          10          11          12 \n",
       "-0.90256758 -3.22318276  0.14331252 -1.33039292 -2.25438257  0.77372124 \n",
       "         13          14          15          16          17          18 \n",
       " 2.04583138  0.69005167 -2.16047799 -1.64687185  3.19848528  4.14504850 \n",
       "         19          20          21          22          23          24 \n",
       "-2.75620684  4.88107543 -1.09289393 -2.85517819 -2.86177641 -1.93705111 \n",
       "         25          26          27          28          29          30 \n",
       " 2.58160223 -0.79885727 -0.03300281  8.10601145  0.09746230  0.42459069 \n",
       "         31          32 \n",
       " 0.24105131 -1.04126868 "
      ]
     },
     "metadata": {},
     "output_type": "display_data"
    }
   ],
   "source": [
    "# residuals\n",
    "print(\"residuals\")\n",
    "residuals <- residuals(model1)\n",
    "residuals"
   ]
  },
  {
   "cell_type": "code",
   "execution_count": 16,
   "metadata": {},
   "outputs": [
    {
     "data": {
      "image/png": "[encoded data removed]",
      "text/plain": [
       "Plot with title \"Residuals against Fitted Values\""
      ]
     },
     "metadata": {},
     "output_type": "display_data"
    }
   ],
   "source": [
    "plot(fitted_values, residuals, \n",
    "     main = \"Residuals against Fitted Values\",\n",
    "     xlab = \"Fitted Values\", ylab = \"Residuals\",\n",
    "     col=\"Purple\", \n",
    "     pch = 19, frame = FALSE)"
   ]
  },
  {
   "cell_type": "code",
   "execution_count": 17,
   "metadata": {},
   "outputs": [
    {
     "data": {
      "image/png": "[encoded data removed]",
      "text/plain": [
       "Plot with title \"Normal Q-Q Plot\""
      ]
     },
     "metadata": {},
     "output_type": "display_data"
    }
   ],
   "source": [
    "qqnorm(residuals, pch = 19, col=\"purple\", frame = FALSE)\n",
    "qqline(residuals, col = \"dark green\", lwd = 2)"
   ]
  },
  {
   "cell_type": "code",
   "execution_count": 18,
   "metadata": {},
   "outputs": [
    {
     "name": "stdout",
     "output_type": "stream",
     "text": [
      "[1] \"prediction interval for model 1 hypothetical values\"\n"
     ]
    },
    {
     "data": {
      "text/html": [
       "<table>\n",
       "<caption>A matrix: 1 × 3 of type dbl</caption>\n",
       "<thead>\n",
       "\t<tr><th scope=col>fit</th><th scope=col>lwr</th><th scope=col>upr</th></tr>\n",
       "</thead>\n",
       "<tbody>\n",
       "\t<tr><td>21.5285</td><td>15.0897</td><td>27.9674</td></tr>\n",
       "</tbody>\n",
       "</table>\n"
      ],
      "text/latex": [
       "A matrix: 1 × 3 of type dbl\n",
       "\\begin{tabular}{r|lll}\n",
       " fit & lwr & upr\\\\\n",
       "\\hline\n",
       "\t 21.5285 & 15.0897 & 27.9674\\\\\n",
       "\\end{tabular}\n"
      ],
      "text/markdown": [
       "\n",
       "A matrix: 1 × 3 of type dbl\n",
       "\n",
       "| fit | lwr | upr |\n",
       "|---|---|---|\n",
       "| 21.5285 | 15.0897 | 27.9674 |\n",
       "\n"
      ],
      "text/plain": [
       "  fit     lwr     upr    \n",
       "1 21.5285 15.0897 27.9674"
      ]
     },
     "metadata": {},
     "output_type": "display_data"
    },
    {
     "name": "stdout",
     "output_type": "stream",
     "text": [
      "[1] \"confidence interval for model 1 hypothetical values\"\n"
     ]
    },
    {
     "data": {
      "text/html": [
       "<table>\n",
       "<caption>A matrix: 1 × 3 of type dbl</caption>\n",
       "<thead>\n",
       "\t<tr><th scope=col>fit</th><th scope=col>lwr</th><th scope=col>upr</th></tr>\n",
       "</thead>\n",
       "<tbody>\n",
       "\t<tr><td>21.5285</td><td>18.5881</td><td>24.469</td></tr>\n",
       "</tbody>\n",
       "</table>\n"
      ],
      "text/latex": [
       "A matrix: 1 × 3 of type dbl\n",
       "\\begin{tabular}{r|lll}\n",
       " fit & lwr & upr\\\\\n",
       "\\hline\n",
       "\t 21.5285 & 18.5881 & 24.469\\\\\n",
       "\\end{tabular}\n"
      ],
      "text/markdown": [
       "\n",
       "A matrix: 1 × 3 of type dbl\n",
       "\n",
       "| fit | lwr | upr |\n",
       "|---|---|---|\n",
       "| 21.5285 | 18.5881 | 24.469 |\n",
       "\n"
      ],
      "text/plain": [
       "  fit     lwr     upr   \n",
       "1 21.5285 18.5881 24.469"
      ]
     },
     "metadata": {},
     "output_type": "display_data"
    }
   ],
   "source": [
    "# predictions with hypothetical values for model 1 variables\n",
    "newdata <- data.frame(hp=175, qsec=14.2, drat=3.91)\n",
    "\n",
    "print(\"prediction interval for model 1 hypothetical values\")\n",
    "prediction_pred_int <- predict(model1, newdata, interval=\"predict\", level=0.95) \n",
    "round(prediction_pred_int, 4)\n",
    "\n",
    "print(\"confidence interval for model 1 hypothetical values\")\n",
    "prediction_conf_int <- predict(model1, newdata, interval=\"confidence\", level=0.95) \n",
    "round(prediction_conf_int, 4)"
   ]
  },
  {
   "cell_type": "code",
   "execution_count": 19,
   "metadata": {},
   "outputs": [
    {
     "name": "stdout",
     "output_type": "stream",
     "text": [
      "[1] \"head\"\n"
     ]
    },
    {
     "data": {
      "text/html": [
       "<table>\n",
       "<caption>A data.frame: 6 × 5</caption>\n",
       "<thead>\n",
       "\t<tr><th scope=col>mpg</th><th scope=col>hp</th><th scope=col>qsec</th><th scope=col>drat</th><th scope=col>cyl</th></tr>\n",
       "\t<tr><th scope=col>&lt;dbl&gt;</th><th scope=col>&lt;int&gt;</th><th scope=col>&lt;dbl&gt;</th><th scope=col>&lt;dbl&gt;</th><th scope=col>&lt;fct&gt;</th></tr>\n",
       "</thead>\n",
       "<tbody>\n",
       "\t<tr><td>21.0</td><td>110</td><td>16.46</td><td>3.90</td><td>6</td></tr>\n",
       "\t<tr><td>21.0</td><td>110</td><td>17.02</td><td>3.90</td><td>6</td></tr>\n",
       "\t<tr><td>22.8</td><td> 93</td><td>18.61</td><td>3.85</td><td>4</td></tr>\n",
       "\t<tr><td>21.4</td><td>110</td><td>19.44</td><td>3.08</td><td>6</td></tr>\n",
       "\t<tr><td>18.7</td><td>175</td><td>17.02</td><td>3.15</td><td>8</td></tr>\n",
       "\t<tr><td>18.1</td><td>105</td><td>20.22</td><td>2.76</td><td>6</td></tr>\n",
       "</tbody>\n",
       "</table>\n"
      ],
      "text/latex": [
       "A data.frame: 6 × 5\n",
       "\\begin{tabular}{r|lllll}\n",
       " mpg & hp & qsec & drat & cyl\\\\\n",
       " <dbl> & <int> & <dbl> & <dbl> & <fct>\\\\\n",
       "\\hline\n",
       "\t 21.0 & 110 & 16.46 & 3.90 & 6\\\\\n",
       "\t 21.0 & 110 & 17.02 & 3.90 & 6\\\\\n",
       "\t 22.8 &  93 & 18.61 & 3.85 & 4\\\\\n",
       "\t 21.4 & 110 & 19.44 & 3.08 & 6\\\\\n",
       "\t 18.7 & 175 & 17.02 & 3.15 & 8\\\\\n",
       "\t 18.1 & 105 & 20.22 & 2.76 & 6\\\\\n",
       "\\end{tabular}\n"
      ],
      "text/markdown": [
       "\n",
       "A data.frame: 6 × 5\n",
       "\n",
       "| mpg &lt;dbl&gt; | hp &lt;int&gt; | qsec &lt;dbl&gt; | drat &lt;dbl&gt; | cyl &lt;fct&gt; |\n",
       "|---|---|---|---|---|\n",
       "| 21.0 | 110 | 16.46 | 3.90 | 6 |\n",
       "| 21.0 | 110 | 17.02 | 3.90 | 6 |\n",
       "| 22.8 |  93 | 18.61 | 3.85 | 4 |\n",
       "| 21.4 | 110 | 19.44 | 3.08 | 6 |\n",
       "| 18.7 | 175 | 17.02 | 3.15 | 8 |\n",
       "| 18.1 | 105 | 20.22 | 2.76 | 6 |\n",
       "\n"
      ],
      "text/plain": [
       "  mpg  hp  qsec  drat cyl\n",
       "1 21.0 110 16.46 3.90 6  \n",
       "2 21.0 110 17.02 3.90 6  \n",
       "3 22.8  93 18.61 3.85 4  \n",
       "4 21.4 110 19.44 3.08 6  \n",
       "5 18.7 175 17.02 3.15 8  \n",
       "6 18.1 105 20.22 2.76 6  "
      ]
     },
     "metadata": {},
     "output_type": "display_data"
    }
   ],
   "source": [
    "myvars <- c(\"mpg\",\"hp\",\"qsec\",\"drat\", \"cyl\")\n",
    "mtcars_subset <- mtcars2[myvars]\n",
    "\n",
    "# Print the first six rows\n",
    "print(\"head\")\n",
    "head(mtcars_subset, 6)\n"
   ]
  },
  {
   "cell_type": "code",
   "execution_count": 20,
   "metadata": {},
   "outputs": [
    {
     "data": {
      "text/plain": [
       "\n",
       "Call:\n",
       "lm(formula = mpg ~ hp + qsec + hp:qsec + factor(cyl), data = mtcars_subset)\n",
       "\n",
       "Residuals:\n",
       "    Min      1Q  Median      3Q     Max \n",
       "-4.0004 -1.6264 -0.2424  1.3322  5.7974 \n",
       "\n",
       "Coefficients:\n",
       "              Estimate Std. Error t value Pr(>|t|)  \n",
       "(Intercept)  24.505565  13.186080   1.858   0.0745 .\n",
       "hp            0.141850   0.079164   1.792   0.0848 .\n",
       "qsec          0.531630   0.746717   0.712   0.4828  \n",
       "factor(cyl)6 -4.408372   1.627676  -2.708   0.0118 *\n",
       "factor(cyl)8 -4.580823   2.555742  -1.792   0.0847 .\n",
       "hp:qsec      -0.012526   0.005251  -2.386   0.0246 *\n",
       "---\n",
       "Signif. codes:  0 '***' 0.001 '**' 0.01 '*' 0.05 '.' 0.1 ' ' 1\n",
       "\n",
       "Residual standard error: 2.692 on 26 degrees of freedom\n",
       "Multiple R-squared:  0.8327,\tAdjusted R-squared:  0.8005 \n",
       "F-statistic: 25.88 on 5 and 26 DF,  p-value: 2.526e-09\n"
      ]
     },
     "metadata": {},
     "output_type": "display_data"
    }
   ],
   "source": [
    "# Fit the regression model\n",
    "model2 <- lm(mpg ~ hp + qsec + hp:qsec + factor(cyl), data=mtcars_subset)\n",
    "\n",
    "# Summarize the model\n",
    "summary(model2)"
   ]
  },
  {
   "cell_type": "code",
   "execution_count": 21,
   "metadata": {},
   "outputs": [
    {
     "name": "stdout",
     "output_type": "stream",
     "text": [
      "[1] \"fitted\"\n"
     ]
    },
    {
     "data": {
      "text/html": [
       "<dl class=dl-horizontal>\n",
       "\t<dt>1</dt>\n",
       "\t\t<dd>21.7713623205398</dd>\n",
       "\t<dt>2</dt>\n",
       "\t\t<dd>21.2974611939613</dd>\n",
       "\t<dt>3</dt>\n",
       "\t\t<dd>25.911760711429</dd>\n",
       "\t<dt>4</dt>\n",
       "\t\t<dd>19.2495313255333</dd>\n",
       "\t<dt>5</dt>\n",
       "\t\t<dd>16.4875081988951</dd>\n",
       "\t<dt>6</dt>\n",
       "\t\t<dd>19.1466049053924</dd>\n",
       "\t<dt>7</dt>\n",
       "\t\t<dd>14.4872770231795</dd>\n",
       "\t<dt>8</dt>\n",
       "\t\t<dd>28.4003668082565</dd>\n",
       "\t<dt>9</dt>\n",
       "\t\t<dd>22.9048750452361</dd>\n",
       "\t<dt>10</dt>\n",
       "\t\t<dd>19.0783222535835</dd>\n",
       "\t<dt>11</dt>\n",
       "\t\t<dd>18.4728666646243</dd>\n",
       "\t<dt>12</dt>\n",
       "\t\t<dd>15.476004535633</dd>\n",
       "\t<dt>13</dt>\n",
       "\t\t<dd>15.1313872939562</dd>\n",
       "\t<dt>14</dt>\n",
       "\t\t<dd>14.4421528106026</dd>\n",
       "\t<dt>15</dt>\n",
       "\t\t<dd>12.392331146971</dd>\n",
       "\t<dt>16</dt>\n",
       "\t\t<dd>11.9044583209236</dd>\n",
       "\t<dt>17</dt>\n",
       "\t\t<dd>11.6237097145215</dd>\n",
       "\t<dt>18</dt>\n",
       "\t\t<dd>28.1220722642288</dd>\n",
       "\t<dt>19</dt>\n",
       "\t\t<dd>29.6643131883726</dd>\n",
       "\t<dt>20</dt>\n",
       "\t\t<dd>28.1026013012312</dd>\n",
       "\t<dt>21</dt>\n",
       "\t\t<dd>24.5899334129819</dd>\n",
       "\t<dt>22</dt>\n",
       "\t\t<dd>18.4732577378927</dd>\n",
       "\t<dt>23</dt>\n",
       "\t\t<dd>17.8939186845249</dd>\n",
       "\t<dt>24</dt>\n",
       "\t\t<dd>15.5783114612989</dd>\n",
       "\t<dt>25</dt>\n",
       "\t\t<dd>16.4376945430649</dd>\n",
       "\t<dt>26</dt>\n",
       "\t\t<dd>28.2902787444725</dd>\n",
       "\t<dt>27</dt>\n",
       "\t\t<dd>27.2560518404872</dd>\n",
       "\t<dt>28</dt>\n",
       "\t\t<dd>25.5978542062931</dd>\n",
       "\t<dt>29</dt>\n",
       "\t\t<dd>17.1314219620967</dd>\n",
       "\t<dt>30</dt>\n",
       "\t\t<dd>19.1838513363654</dd>\n",
       "\t<dt>31</dt>\n",
       "\t\t<dd>13.9405665664394</dd>\n",
       "\t<dt>32</dt>\n",
       "\t\t<dd>24.4598924770111</dd>\n",
       "</dl>\n"
      ],
      "text/latex": [
       "\\begin{description*}\n",
       "\\item[1] 21.7713623205398\n",
       "\\item[2] 21.2974611939613\n",
       "\\item[3] 25.911760711429\n",
       "\\item[4] 19.2495313255333\n",
       "\\item[5] 16.4875081988951\n",
       "\\item[6] 19.1466049053924\n",
       "\\item[7] 14.4872770231795\n",
       "\\item[8] 28.4003668082565\n",
       "\\item[9] 22.9048750452361\n",
       "\\item[10] 19.0783222535835\n",
       "\\item[11] 18.4728666646243\n",
       "\\item[12] 15.476004535633\n",
       "\\item[13] 15.1313872939562\n",
       "\\item[14] 14.4421528106026\n",
       "\\item[15] 12.392331146971\n",
       "\\item[16] 11.9044583209236\n",
       "\\item[17] 11.6237097145215\n",
       "\\item[18] 28.1220722642288\n",
       "\\item[19] 29.6643131883726\n",
       "\\item[20] 28.1026013012312\n",
       "\\item[21] 24.5899334129819\n",
       "\\item[22] 18.4732577378927\n",
       "\\item[23] 17.8939186845249\n",
       "\\item[24] 15.5783114612989\n",
       "\\item[25] 16.4376945430649\n",
       "\\item[26] 28.2902787444725\n",
       "\\item[27] 27.2560518404872\n",
       "\\item[28] 25.5978542062931\n",
       "\\item[29] 17.1314219620967\n",
       "\\item[30] 19.1838513363654\n",
       "\\item[31] 13.9405665664394\n",
       "\\item[32] 24.4598924770111\n",
       "\\end{description*}\n"
      ],
      "text/markdown": [
       "1\n",
       ":   21.77136232053982\n",
       ":   21.29746119396133\n",
       ":   25.9117607114294\n",
       ":   19.24953132553335\n",
       ":   16.48750819889516\n",
       ":   19.14660490539247\n",
       ":   14.48727702317958\n",
       ":   28.40036680825659\n",
       ":   22.904875045236110\n",
       ":   19.078322253583511\n",
       ":   18.472866664624312\n",
       ":   15.47600453563313\n",
       ":   15.131387293956214\n",
       ":   14.442152810602615\n",
       ":   12.39233114697116\n",
       ":   11.904458320923617\n",
       ":   11.623709714521518\n",
       ":   28.122072264228819\n",
       ":   29.664313188372620\n",
       ":   28.102601301231221\n",
       ":   24.589933412981922\n",
       ":   18.473257737892723\n",
       ":   17.893918684524924\n",
       ":   15.578311461298925\n",
       ":   16.437694543064926\n",
       ":   28.290278744472527\n",
       ":   27.256051840487228\n",
       ":   25.597854206293129\n",
       ":   17.131421962096730\n",
       ":   19.183851336365431\n",
       ":   13.940566566439432\n",
       ":   24.4598924770111\n",
       "\n"
      ],
      "text/plain": [
       "       1        2        3        4        5        6        7        8 \n",
       "21.77136 21.29746 25.91176 19.24953 16.48751 19.14660 14.48728 28.40037 \n",
       "       9       10       11       12       13       14       15       16 \n",
       "22.90488 19.07832 18.47287 15.47600 15.13139 14.44215 12.39233 11.90446 \n",
       "      17       18       19       20       21       22       23       24 \n",
       "11.62371 28.12207 29.66431 28.10260 24.58993 18.47326 17.89392 15.57831 \n",
       "      25       26       27       28       29       30       31       32 \n",
       "16.43769 28.29028 27.25605 25.59785 17.13142 19.18385 13.94057 24.45989 "
      ]
     },
     "metadata": {},
     "output_type": "display_data"
    }
   ],
   "source": [
    "# predicted values\n",
    "print(\"fitted\")\n",
    "fitted_values <- fitted.values(model2) \n",
    "fitted_values"
   ]
  },
  {
   "cell_type": "code",
   "execution_count": 22,
   "metadata": {},
   "outputs": [
    {
     "name": "stdout",
     "output_type": "stream",
     "text": [
      "[1] \"residuals\"\n"
     ]
    },
    {
     "data": {
      "text/html": [
       "<dl class=dl-horizontal>\n",
       "\t<dt>1</dt>\n",
       "\t\t<dd>-0.771362320539769</dd>\n",
       "\t<dt>2</dt>\n",
       "\t\t<dd>-0.297461193961272</dd>\n",
       "\t<dt>3</dt>\n",
       "\t\t<dd>-3.11176071142902</dd>\n",
       "\t<dt>4</dt>\n",
       "\t\t<dd>2.15046867446666</dd>\n",
       "\t<dt>5</dt>\n",
       "\t\t<dd>2.21249180110491</dd>\n",
       "\t<dt>6</dt>\n",
       "\t\t<dd>-1.04660490539237</dd>\n",
       "\t<dt>7</dt>\n",
       "\t\t<dd>-0.187277023179495</dd>\n",
       "\t<dt>8</dt>\n",
       "\t\t<dd>-4.00036680825647</dd>\n",
       "\t<dt>9</dt>\n",
       "\t\t<dd>-0.104875045236114</dd>\n",
       "\t<dt>10</dt>\n",
       "\t\t<dd>0.121677746416471</dd>\n",
       "\t<dt>11</dt>\n",
       "\t\t<dd>-0.672866664624308</dd>\n",
       "\t<dt>12</dt>\n",
       "\t\t<dd>0.923995464367011</dd>\n",
       "\t<dt>13</dt>\n",
       "\t\t<dd>2.16861270604382</dd>\n",
       "\t<dt>14</dt>\n",
       "\t\t<dd>0.757847189397417</dd>\n",
       "\t<dt>15</dt>\n",
       "\t\t<dd>-1.99233114697096</dd>\n",
       "\t<dt>16</dt>\n",
       "\t\t<dd>-1.50445832092364</dd>\n",
       "\t<dt>17</dt>\n",
       "\t\t<dd>3.07629028547853</dd>\n",
       "\t<dt>18</dt>\n",
       "\t\t<dd>4.27792773577117</dd>\n",
       "\t<dt>19</dt>\n",
       "\t\t<dd>0.735686811627372</dd>\n",
       "\t<dt>20</dt>\n",
       "\t\t<dd>5.79739869876882</dd>\n",
       "\t<dt>21</dt>\n",
       "\t\t<dd>-3.08993341298187</dd>\n",
       "\t<dt>22</dt>\n",
       "\t\t<dd>-2.97325773789267</dd>\n",
       "\t<dt>23</dt>\n",
       "\t\t<dd>-2.69391868452492</dd>\n",
       "\t<dt>24</dt>\n",
       "\t\t<dd>-2.27831146129893</dd>\n",
       "\t<dt>25</dt>\n",
       "\t\t<dd>2.76230545693507</dd>\n",
       "\t<dt>26</dt>\n",
       "\t\t<dd>-0.990278744472472</dd>\n",
       "\t<dt>27</dt>\n",
       "\t\t<dd>-1.25605184048716</dd>\n",
       "\t<dt>28</dt>\n",
       "\t\t<dd>4.80214579370687</dd>\n",
       "\t<dt>29</dt>\n",
       "\t\t<dd>-1.33142196209672</dd>\n",
       "\t<dt>30</dt>\n",
       "\t\t<dd>0.516148663634588</dd>\n",
       "\t<dt>31</dt>\n",
       "\t\t<dd>1.05943343356058</dd>\n",
       "\t<dt>32</dt>\n",
       "\t\t<dd>-3.05989247701113</dd>\n",
       "</dl>\n"
      ],
      "text/latex": [
       "\\begin{description*}\n",
       "\\item[1] -0.771362320539769\n",
       "\\item[2] -0.297461193961272\n",
       "\\item[3] -3.11176071142902\n",
       "\\item[4] 2.15046867446666\n",
       "\\item[5] 2.21249180110491\n",
       "\\item[6] -1.04660490539237\n",
       "\\item[7] -0.187277023179495\n",
       "\\item[8] -4.00036680825647\n",
       "\\item[9] -0.104875045236114\n",
       "\\item[10] 0.121677746416471\n",
       "\\item[11] -0.672866664624308\n",
       "\\item[12] 0.923995464367011\n",
       "\\item[13] 2.16861270604382\n",
       "\\item[14] 0.757847189397417\n",
       "\\item[15] -1.99233114697096\n",
       "\\item[16] -1.50445832092364\n",
       "\\item[17] 3.07629028547853\n",
       "\\item[18] 4.27792773577117\n",
       "\\item[19] 0.735686811627372\n",
       "\\item[20] 5.79739869876882\n",
       "\\item[21] -3.08993341298187\n",
       "\\item[22] -2.97325773789267\n",
       "\\item[23] -2.69391868452492\n",
       "\\item[24] -2.27831146129893\n",
       "\\item[25] 2.76230545693507\n",
       "\\item[26] -0.990278744472472\n",
       "\\item[27] -1.25605184048716\n",
       "\\item[28] 4.80214579370687\n",
       "\\item[29] -1.33142196209672\n",
       "\\item[30] 0.516148663634588\n",
       "\\item[31] 1.05943343356058\n",
       "\\item[32] -3.05989247701113\n",
       "\\end{description*}\n"
      ],
      "text/markdown": [
       "1\n",
       ":   -0.7713623205397692\n",
       ":   -0.2974611939612723\n",
       ":   -3.111760711429024\n",
       ":   2.150468674466665\n",
       ":   2.212491801104916\n",
       ":   -1.046604905392377\n",
       ":   -0.1872770231794958\n",
       ":   -4.000366808256479\n",
       ":   -0.10487504523611410\n",
       ":   0.12167774641647111\n",
       ":   -0.67286666462430812\n",
       ":   0.92399546436701113\n",
       ":   2.1686127060438214\n",
       ":   0.75784718939741715\n",
       ":   -1.9923311469709616\n",
       ":   -1.5044583209236417\n",
       ":   3.0762902854785318\n",
       ":   4.2779277357711719\n",
       ":   0.73568681162737220\n",
       ":   5.7973986987688221\n",
       ":   -3.0899334129818722\n",
       ":   -2.9732577378926723\n",
       ":   -2.6939186845249224\n",
       ":   -2.2783114612989325\n",
       ":   2.7623054569350726\n",
       ":   -0.99027874447247227\n",
       ":   -1.2560518404871628\n",
       ":   4.8021457937068729\n",
       ":   -1.3314219620967230\n",
       ":   0.51614866363458831\n",
       ":   1.0594334335605832\n",
       ":   -3.05989247701113\n",
       "\n"
      ],
      "text/plain": [
       "         1          2          3          4          5          6          7 \n",
       "-0.7713623 -0.2974612 -3.1117607  2.1504687  2.2124918 -1.0466049 -0.1872770 \n",
       "         8          9         10         11         12         13         14 \n",
       "-4.0003668 -0.1048750  0.1216777 -0.6728667  0.9239955  2.1686127  0.7578472 \n",
       "        15         16         17         18         19         20         21 \n",
       "-1.9923311 -1.5044583  3.0762903  4.2779277  0.7356868  5.7973987 -3.0899334 \n",
       "        22         23         24         25         26         27         28 \n",
       "-2.9732577 -2.6939187 -2.2783115  2.7623055 -0.9902787 -1.2560518  4.8021458 \n",
       "        29         30         31         32 \n",
       "-1.3314220  0.5161487  1.0594334 -3.0598925 "
      ]
     },
     "metadata": {},
     "output_type": "display_data"
    }
   ],
   "source": [
    "# residuals\n",
    "print(\"residuals\")\n",
    "residuals <- residuals(model2)\n",
    "residuals"
   ]
  },
  {
   "cell_type": "code",
   "execution_count": 23,
   "metadata": {},
   "outputs": [
    {
     "data": {
      "image/png": "[encoded data removed]",
      "text/plain": [
       "Plot with title \"Residuals against Fitted Values\""
      ]
     },
     "metadata": {},
     "output_type": "display_data"
    }
   ],
   "source": [
    "# Plot residuals against fitted values for model 2 \n",
    "plot(fitted_values, residuals,\n",
    "     main = \"Residuals against Fitted Values\",\n",
    "     xlab = \"Fitted Values\",\n",
    "     ylab = \"Residuals\", col = \"Purple\",\n",
    "     pch = 19, frame = FALSE)"
   ]
  },
  {
   "cell_type": "code",
   "execution_count": 24,
   "metadata": {},
   "outputs": [
    {
     "data": {
      "image/png": "[encoded data removed]",
      "text/plain": [
       "Plot with title \"Normal Q-Q Plot\""
      ]
     },
     "metadata": {},
     "output_type": "display_data"
    }
   ],
   "source": [
    "# Q-Q plot of residuals for model 2 \n",
    "qqnorm(residuals, pch = 19, col = \"purple\", frame = FALSE) \n",
    "qqline(residuals, col = \"dark green\", lwd = 2)"
   ]
  },
  {
   "cell_type": "code",
   "execution_count": 25,
   "metadata": {},
   "outputs": [
    {
     "name": "stdout",
     "output_type": "stream",
     "text": [
      "[1] \"prediction interval\"\n"
     ]
    },
    {
     "data": {
      "text/html": [
       "<table>\n",
       "<caption>A matrix: 1 × 3 of type dbl</caption>\n",
       "<thead>\n",
       "\t<tr><th scope=col>fit</th><th scope=col>lwr</th><th scope=col>upr</th></tr>\n",
       "</thead>\n",
       "<tbody>\n",
       "\t<tr><td>21.3424</td><td>14.8764</td><td>27.8085</td></tr>\n",
       "</tbody>\n",
       "</table>\n"
      ],
      "text/latex": [
       "A matrix: 1 × 3 of type dbl\n",
       "\\begin{tabular}{r|lll}\n",
       " fit & lwr & upr\\\\\n",
       "\\hline\n",
       "\t 21.3424 & 14.8764 & 27.8085\\\\\n",
       "\\end{tabular}\n"
      ],
      "text/markdown": [
       "\n",
       "A matrix: 1 × 3 of type dbl\n",
       "\n",
       "| fit | lwr | upr |\n",
       "|---|---|---|\n",
       "| 21.3424 | 14.8764 | 27.8085 |\n",
       "\n"
      ],
      "text/plain": [
       "  fit     lwr     upr    \n",
       "1 21.3424 14.8764 27.8085"
      ]
     },
     "metadata": {},
     "output_type": "display_data"
    },
    {
     "name": "stdout",
     "output_type": "stream",
     "text": [
      "[1] \"confidence interval\"\n"
     ]
    },
    {
     "data": {
      "text/html": [
       "<table>\n",
       "<caption>A matrix: 1 × 3 of type dbl</caption>\n",
       "<thead>\n",
       "\t<tr><th scope=col>fit</th><th scope=col>lwr</th><th scope=col>upr</th></tr>\n",
       "</thead>\n",
       "<tbody>\n",
       "\t<tr><td>21.3424</td><td>17.9965</td><td>24.6884</td></tr>\n",
       "</tbody>\n",
       "</table>\n"
      ],
      "text/latex": [
       "A matrix: 1 × 3 of type dbl\n",
       "\\begin{tabular}{r|lll}\n",
       " fit & lwr & upr\\\\\n",
       "\\hline\n",
       "\t 21.3424 & 17.9965 & 24.6884\\\\\n",
       "\\end{tabular}\n"
      ],
      "text/markdown": [
       "\n",
       "A matrix: 1 × 3 of type dbl\n",
       "\n",
       "| fit | lwr | upr |\n",
       "|---|---|---|\n",
       "| 21.3424 | 17.9965 | 24.6884 |\n",
       "\n"
      ],
      "text/plain": [
       "  fit     lwr     upr    \n",
       "1 21.3424 17.9965 24.6884"
      ]
     },
     "metadata": {},
     "output_type": "display_data"
    }
   ],
   "source": [
    "# Predictions with hypothetical values for model 2 variables\n",
    "newdata <- data.frame(hp = 175, qsec = 14.2, cyl = factor(6, levels = levels(mtcars2$cyl)))\n",
    "\n",
    "# Prediction interval for model 2 hypothetical values\n",
    "print(\"prediction interval\")\n",
    "prediction_pred_int <- predict(model2, newdata, interval = \"predict\", level = 0.95)\n",
    "round(prediction_pred_int, 4)\n",
    "\n",
    "# Confidence interval for model 2 hypothetical values\n",
    "print(\"confidence interval\")\n",
    "prediction_conf_int <- predict(model2, newdata, interval = \"confidence\", level = 0.95)\n",
    "round(prediction_conf_int, 4)"
   ]
  },
  {
   "cell_type": "markdown",
   "metadata": {
    "deletable": false,
    "editable": false
   },
   "source": [
    "## End of Module Two Jupyter Notebook\n",
    "Attach the HTML output along with your problem set report for the Module Two Problem Set. The HTML output can be downloaded by clicking **File**, then **Download as**, then **HTML**. Be sure to answer all of the questions in your problem set report."
   ]
  }
 ],
 "metadata": {
  "celltoolbar": "Edit Metadata",
  "kernelspec": {
   "display_name": "R",
   "language": "R",
   "name": "ir"
  },
  "language_info": {
   "codemirror_mode": "r",
   "file_extension": ".r",
   "mimetype": "text/x-r-source",
   "name": "R",
   "pygments_lexer": "r",
   "version": "3.4.4"
  }
 },
 "nbformat": 4,
 "nbformat_minor": 2
}
